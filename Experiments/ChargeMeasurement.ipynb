{
 "cells": [
  {
   "cell_type": "code",
   "execution_count": 2,
   "metadata": {},
   "outputs": [
    {
     "name": "stdout",
     "output_type": "stream",
     "text": [
      "Found Numpy. WIll be used for storing data\n"
     ]
    }
   ],
   "source": [
    "from IPython.core.interactiveshell import InteractiveShell\n",
    "InteractiveShell.ast_node_interactivity = \"all\"\n",
    "from IPython.display import display, Latex\n",
    "from sympy import *\n",
    "from sympy.interactive import printing\n",
    "import numpy as np\n",
    "import matplotlib.pyplot as plt\n",
    "from matplotlib.ticker import FuncFormatter, EngFormatter\n",
    "from scipy import stats\n",
    "from math import log10\n",
    "import os\n",
    "from PyLTSpice import LTSpice_RawRead\n",
    "printing.init_printing(use_latex=True)"
   ]
  },
  {
   "cell_type": "code",
   "execution_count": 50,
   "metadata": {},
   "outputs": [
    {
     "name": "stdout",
     "output_type": "stream",
     "text": [
      "Normal access\n"
     ]
    }
   ],
   "source": [
    "path_to_raw = 'C:\\\\Users\\\\Erik.Iverson\\\\Documents\\\\LTspiceXVII\\\\Integrator\\\\'\n",
    "raw = os.path.join(path_to_raw+'Integrator8.raw')\n",
    "LTR = LTSpice_RawRead.LTSpiceRawRead(raw) "
   ]
  },
  {
   "cell_type": "code",
   "execution_count": 51,
   "metadata": {},
   "outputs": [],
   "source": [
    "t_sim = LTR.get_trace('time').get_time_axis()\n",
    "\n",
    "#The waveform period is known - plot 1.4 periods\n",
    "#get the index when t_sim = 2.4ms\n",
    "#time step is not constant\n",
    "def find_nearest(array,value):\n",
    "    idx = (np.abs(array-value)).argmin()\n",
    "    return idx\n",
    "\n",
    "period = 2e-3\n",
    "idx = find_nearest(t_sim, 1.4*period)\n",
    "t_sim = t_sim[0:idx]"
   ]
  },
  {
   "cell_type": "code",
   "execution_count": 54,
   "metadata": {},
   "outputs": [],
   "source": [
    "CapCommand = LTR.get_trace(\"V(comm)\").get_wave()[0:idx]#LTR doesn't like node voltages with capital V\n",
    "Vo1 = LTR.get_trace(\"V(vo1)\").get_wave()[0:idx]\n",
    "Viint = LTR.get_trace(\"V(iint)\").get_wave()[0:idx]\n",
    "Vs = LTR.get_trace(\"V(vs)\").get_wave()[0:idx]\n",
    "Icp = LTR.get_trace(\"Ix(x1:C+)\").get_wave()[0:idx]\n",
    "Vcp = LTR.get_trace(\"V(vcp)\").get_wave()[0:idx]\n",
    "Vcp = Vs - Vcp"
   ]
  },
  {
   "cell_type": "code",
   "execution_count": 55,
   "metadata": {},
   "outputs": [
    {
     "data": {
      "text/plain": [
       "[<matplotlib.lines.Line2D at 0x146871658c8>]"
      ]
     },
     "execution_count": 55,
     "metadata": {},
     "output_type": "execute_result"
    },
    {
     "data": {
      "text/plain": [
       "[<matplotlib.lines.Line2D at 0x14687275f88>]"
      ]
     },
     "execution_count": 55,
     "metadata": {},
     "output_type": "execute_result"
    },
    {
     "data": {
      "text/plain": [
       "Text(0, 0.5, 'Voltage')"
      ]
     },
     "execution_count": 55,
     "metadata": {},
     "output_type": "execute_result"
    },
    {
     "data": {
      "text/plain": [
       "<matplotlib.legend.Legend at 0x146872a73c8>"
      ]
     },
     "execution_count": 55,
     "metadata": {},
     "output_type": "execute_result"
    },
    {
     "data": {
      "text/plain": [
       "[<matplotlib.lines.Line2D at 0x146872aa688>]"
      ]
     },
     "execution_count": 55,
     "metadata": {},
     "output_type": "execute_result"
    },
    {
     "data": {
      "image/png": "[encoded data removed]",
      "text/latex": [
       "$\\displaystyle \\left( -5.5e-05, \\  5.5e-05\\right)$"
      ],
      "text/plain": [
       "(-5.5e-05, 5.5e-05)"
      ]
     },
     "execution_count": 55,
     "metadata": {},
     "output_type": "execute_result"
    },
    {
     "data": {
      "text/plain": [
       "[<matplotlib.lines.Line2D at 0x146872d6488>]"
      ]
     },
     "execution_count": 55,
     "metadata": {},
     "output_type": "execute_result"
    },
    {
     "data": {
      "text/plain": [
       "Text(0, 0.5, 'Current')"
      ]
     },
     "execution_count": 55,
     "metadata": {},
     "output_type": "execute_result"
    },
    {
     "data": {
      "text/plain": [
       "<matplotlib.legend.Legend at 0x146872d9908>"
      ]
     },
     "execution_count": 55,
     "metadata": {},
     "output_type": "execute_result"
    },
    {
     "data": {
      "text/plain": [
       "<matplotlib.legend.Legend at 0x14687243ac8>"
      ]
     },
     "execution_count": 55,
     "metadata": {},
     "output_type": "execute_result"
    },
    {
     "data": {
      "text/plain": [
       "Text(0, 0.5, 'Voltage')"
      ]
     },
     "execution_count": 55,
     "metadata": {},
     "output_type": "execute_result"
    },
    {
     "data": {
      "text/plain": [
       "[<matplotlib.lines.Line2D at 0x146873143c8>]"
      ]
     },
     "execution_count": 55,
     "metadata": {},
     "output_type": "execute_result"
    },
    {
     "data": {
      "text/plain": [
       "Text(0.5, 0, 'Time')"
      ]
     },
     "execution_count": 55,
     "metadata": {},
     "output_type": "execute_result"
    },
    {
     "data": {
      "text/plain": [
       "Text(0, 0.5, 'Voltage')"
      ]
     },
     "execution_count": 55,
     "metadata": {},
     "output_type": "execute_result"
    },
    {
     "data": {
      "text/plain": [
       "<matplotlib.legend.Legend at 0x1468731bf88>"
      ]
     },
     "execution_count": 55,
     "metadata": {},
     "output_type": "execute_result"
    },
    {
     "data": {
      "image/png": "[encoded data removed]",
      "text/latex": [
       "$\\displaystyle \\left( 0, \\  0.0022\\right)$"
      ],
      "text/plain": [
       "(0, 0.0022)"
      ]
     },
     "execution_count": 55,
     "metadata": {},
     "output_type": "execute_result"
    },
    {
     "data": {
      "text/plain": [
       "Text(0.5, 0.98, 'One Period of Charge Integration Circuit')"
      ]
     },
     "execution_count": 55,
     "metadata": {},
     "output_type": "execute_result"
    },
    {
     "data": {
      "image/png": "[encoded data removed]",
      "text/plain": [
       "<Figure size 432x288 with 4 Axes>"
      ]
     },
     "metadata": {
      "needs_background": "light"
     },
     "output_type": "display_data"
    }
   ],
   "source": [
    "fig, (ax1, ax2,ax3) = plt.subplots(nrows=3, ncols=1, sharex=True)\n",
    "\n",
    "ax1.plot(t_sim, Vs, label='Input Pulse')\n",
    "\n",
    "ax1.plot(t_sim, Vcp, label = 'probe voltage')\n",
    "ax1.set_ylabel('Voltage')\n",
    "ax1.legend(loc=(.5,.2))\n",
    "\n",
    "ax2.plot(t_sim, Icp, label='probe current')\n",
    "ax2.set_ylim(top=55e-6, bottom=-55e-6)\n",
    "ax4 = ax2.twinx()\n",
    "ax4.plot(t_sim, Vo1, label='current*200k{:c}'.format(0x3A9), color='red')\n",
    "ax2.set_ylabel('Current')\n",
    "ax2.yaxis.set_major_formatter(EngFormatter(unit='A', places=0, sep=''))   \n",
    "ax2.legend(loc=(.5,.6))\n",
    "ax4.legend(loc=(.5,.1))\n",
    "ax4.set_ylabel('Voltage')\n",
    "\n",
    "ax3.plot(t_sim, Viint, label='Vout')\n",
    "#ax3.plot(t_sim, vint, label='integrated current')\n",
    "ax3.set_xlabel('Time')\n",
    "ax3.set_ylabel('Voltage')\n",
    "ax3.legend(loc=(.5,.5))\n",
    "\n",
    "ax3.xaxis.set_major_formatter(EngFormatter(unit='s', places=0, sep=''))   \n",
    "ax3.set_xlim(left=0, right=2.2e-3)\n",
    "fig.suptitle('One Period of Charge Integration Circuit')\n",
    "#plt.tight_layout()"
   ]
  },
  {
   "cell_type": "code",
   "execution_count": 62,
   "metadata": {},
   "outputs": [
    {
     "data": {
      "text/plain": [
       "[<matplotlib.lines.Line2D at 0x1468797e288>]"
      ]
     },
     "execution_count": 62,
     "metadata": {},
     "output_type": "execute_result"
    },
    {
     "data": {
      "text/plain": [
       "Text(0.5, 0, 'Probe Capacitance')"
      ]
     },
     "execution_count": 62,
     "metadata": {},
     "output_type": "execute_result"
    },
    {
     "data": {
      "text/plain": [
       "Text(0, 0.5, 'Output Voltage')"
      ]
     },
     "execution_count": 62,
     "metadata": {},
     "output_type": "execute_result"
    },
    {
     "data": {
      "text/plain": [
       "Text(0.5, 1.0, 'Ouput Voltage vs Probe Capacitance')"
      ]
     },
     "execution_count": 62,
     "metadata": {},
     "output_type": "execute_result"
    },
    {
     "data": {
      "text/plain": [
       "Text(1e-12, 2.3705263157894736, 'Vout/Cprb = 1.0e+10V/F = 1.0e-02V/pF')"
      ]
     },
     "execution_count": 62,
     "metadata": {},
     "output_type": "execute_result"
    },
    {
     "data": {
      "image/png": "[encoded data removed]",
      "text/plain": [
       "<Figure size 432x288 with 1 Axes>"
      ]
     },
     "metadata": {
      "needs_background": "light"
     },
     "output_type": "display_data"
    }
   ],
   "source": [
    "#plot  output amplitude vs probe capacitance \n",
    "#vout = R2/(C2*R3)C*Vin\n",
    "cprb = np.linspace(1e-12, 300e-12, 20)\n",
    "R2 = 200e3\n",
    "R3 = 100e3\n",
    "C2 = 1e-9\n",
    "Vin = 5\n",
    "vout = R2/(C2*R3)*cprb*Vin\n",
    "fig, ax1 = plt.subplots()\n",
    "ax1.plot(cprb, vout)\n",
    "major_formatter= EngFormatter(unit='F', places=1, sep='')\n",
    "ax1.xaxis.set_major_formatter(major_formatter)    \n",
    "ax1.set_xlabel('Probe Capacitance')\n",
    "ax1.set_ylabel('Output Voltage')\n",
    "ax1.set_title('Ouput Voltage vs Probe Capacitance')\n",
    "slope, intercept, r_value, p_value, std_err = stats.linregress(cprb, vout)\n",
    "ax1.text(cprb[0], vout[15], 'Vout/Cprb = {:.1e}V/F = {:.1e}V/pF'.format(slope, slope/1e12))"
   ]
  },
  {
   "cell_type": "code",
   "execution_count": 66,
   "metadata": {},
   "outputs": [
    {
     "name": "stdout",
     "output_type": "stream",
     "text": [
      "Normal access\n"
     ]
    }
   ],
   "source": [
    "LTR = LTSpice_RawRead.LTSpiceRawRead(raw) \n",
    "t_sim = LTR.get_trace('time').get_time_axis()\n",
    "\n",
    "CapCommand = LTR.get_trace(\"V(comm)\").get_wave()#LTR doesn't like node voltages with capital V\n",
    "#Vo1 = LTR.get_trace(\"V(vo1)\").get_wave()[0:idx]\n",
    "Viint = LTR.get_trace(\"V(iint)\").get_wave()\n",
    "Vs = LTR.get_trace(\"V(vs)\").get_wave()\n",
    "comm = LTR.get_trace(\"V(comm)\").get_wave()\n",
    "Vcp = LTR.get_trace(\"V(vcp)\").get_wave()\n",
    "Vcp = Vs - Vcp"
   ]
  },
  {
   "cell_type": "code",
   "execution_count": 72,
   "metadata": {},
   "outputs": [
    {
     "data": {
      "text/plain": [
       "[<matplotlib.lines.Line2D at 0x14688db58c8>]"
      ]
     },
     "execution_count": 72,
     "metadata": {},
     "output_type": "execute_result"
    },
    {
     "data": {
      "text/plain": [
       "Text(0, 0.5, 'Voltage')"
      ]
     },
     "execution_count": 72,
     "metadata": {},
     "output_type": "execute_result"
    },
    {
     "data": {
      "text/plain": [
       "<matplotlib.legend.Legend at 0x14688c83f48>"
      ]
     },
     "execution_count": 72,
     "metadata": {},
     "output_type": "execute_result"
    },
    {
     "data": {
      "text/plain": [
       "[<matplotlib.lines.Line2D at 0x14688e79fc8>]"
      ]
     },
     "execution_count": 72,
     "metadata": {},
     "output_type": "execute_result"
    },
    {
     "data": {
      "text/plain": [
       "[<matplotlib.lines.Line2D at 0x14688de9388>]"
      ]
     },
     "execution_count": 72,
     "metadata": {},
     "output_type": "execute_result"
    },
    {
     "data": {
      "text/plain": [
       "Text(0, 0.5, 'Voltage')"
      ]
     },
     "execution_count": 72,
     "metadata": {},
     "output_type": "execute_result"
    },
    {
     "data": {
      "text/plain": [
       "<matplotlib.legend.Legend at 0x14688e7aec8>"
      ]
     },
     "execution_count": 72,
     "metadata": {},
     "output_type": "execute_result"
    },
    {
     "data": {
      "text/plain": [
       "Text(0.5, 0, 'Time')"
      ]
     },
     "execution_count": 72,
     "metadata": {},
     "output_type": "execute_result"
    },
    {
     "data": {
      "text/plain": [
       "Text(0.5, 0.98, 'Response with Varying Probe Cap')"
      ]
     },
     "execution_count": 72,
     "metadata": {},
     "output_type": "execute_result"
    },
    {
     "data": {
      "image/png": "[encoded data removed]",
      "text/plain": [
       "<Figure size 432x288 with 2 Axes>"
      ]
     },
     "metadata": {
      "needs_background": "light"
     },
     "output_type": "display_data"
    }
   ],
   "source": [
    "fig, (ax1, ax2) = plt.subplots(nrows=2, ncols=1, sharex=True)\n",
    "\n",
    "ax1.plot(t_sim, Vs, label='Input Pulse')\n",
    "\n",
    "\n",
    "ax1.set_ylabel('Voltage')\n",
    "ax1.legend(loc=(.5,.2))\n",
    "\n",
    "ax2.plot(t_sim, Viint, label='Output Pulse')\n",
    "\n",
    "ax2.plot(t_sim, comm, label='capacitance simulation command')\n",
    "ax2.set_ylabel('Voltage')\n",
    "\n",
    "ax2.legend(loc=(.3,.1))\n",
    "ax1.xaxis.set_major_formatter(EngFormatter(unit='s', places=0, sep=''))   \n",
    "ax2.set_xlabel('Time')\n",
    "\n",
    "\n",
    "fig.suptitle('Response with Varying Probe Cap')\n",
    "#plt.tight_layout()"
   ]
  },
  {
   "cell_type": "code",
   "execution_count": 36,
   "metadata": {},
   "outputs": [
    {
     "data": {
      "text/plain": [
       "'Ω'"
      ]
     },
     "execution_count": 36,
     "metadata": {},
     "output_type": "execute_result"
    }
   ],
   "source": []
  },
  {
   "cell_type": "code",
   "execution_count": 4,
   "metadata": {},
   "outputs": [],
   "source": [
    "vcomm = np.linspace(0, 1, 200)\n",
    "fs = vcomm*16\n",
    "fs_ = np.floor(fs)\n"
   ]
  },
  {
   "cell_type": "code",
   "execution_count": 5,
   "metadata": {},
   "outputs": [
    {
     "data": {
      "text/plain": [
       "array([ 0.,  0.,  0.,  0.,  0.,  0.,  0.,  0.,  0.,  0.,  0.,  0.,  0.,\n",
       "        1.,  1.,  1.,  1.,  1.,  1.,  1.,  1.,  1.,  1.,  1.,  1.,  2.,\n",
       "        2.,  2.,  2.,  2.,  2.,  2.,  2.,  2.,  2.,  2.,  2.,  2.,  3.,\n",
       "        3.,  3.,  3.,  3.,  3.,  3.,  3.,  3.,  3.,  3.,  3.,  4.,  4.,\n",
       "        4.,  4.,  4.,  4.,  4.,  4.,  4.,  4.,  4.,  4.,  4.,  5.,  5.,\n",
       "        5.,  5.,  5.,  5.,  5.,  5.,  5.,  5.,  5.,  5.,  6.,  6.,  6.,\n",
       "        6.,  6.,  6.,  6.,  6.,  6.,  6.,  6.,  6.,  6.,  7.,  7.,  7.,\n",
       "        7.,  7.,  7.,  7.,  7.,  7.,  7.,  7.,  7.,  8.,  8.,  8.,  8.,\n",
       "        8.,  8.,  8.,  8.,  8.,  8.,  8.,  8.,  9.,  9.,  9.,  9.,  9.,\n",
       "        9.,  9.,  9.,  9.,  9.,  9.,  9.,  9., 10., 10., 10., 10., 10.,\n",
       "       10., 10., 10., 10., 10., 10., 10., 11., 11., 11., 11., 11., 11.,\n",
       "       11., 11., 11., 11., 11., 11., 11., 12., 12., 12., 12., 12., 12.,\n",
       "       12., 12., 12., 12., 12., 12., 13., 13., 13., 13., 13., 13., 13.,\n",
       "       13., 13., 13., 13., 13., 13., 14., 14., 14., 14., 14., 14., 14.,\n",
       "       14., 14., 14., 14., 14., 15., 15., 15., 15., 15., 15., 15., 15.,\n",
       "       15., 15., 15., 15., 16.])"
      ]
     },
     "execution_count": 5,
     "metadata": {},
     "output_type": "execute_result"
    }
   ],
   "source": [
    "fs_"
   ]
  },
  {
   "cell_type": "code",
   "execution_count": 9,
   "metadata": {},
   "outputs": [
    {
     "data": {
      "image/png": "[encoded data removed]",
      "text/latex": [
       "$\\displaystyle 0$"
      ],
      "text/plain": [
       "0"
      ]
     },
     "execution_count": 9,
     "metadata": {},
     "output_type": "execute_result"
    }
   ],
   "source": [
    "2%1"
   ]
  }
 ],
 "metadata": {
  "kernelspec": {
   "display_name": "Python 3",
   "language": "python",
   "name": "python3"
  },
  "language_info": {
   "codemirror_mode": {
    "name": "ipython",
    "version": 3
   },
   "file_extension": ".py",
   "mimetype": "text/x-python",
   "name": "python",
   "nbconvert_exporter": "python",
   "pygments_lexer": "ipython3",
   "version": "3.7.6"
  }
 },
 "nbformat": 4,
 "nbformat_minor": 4
}
