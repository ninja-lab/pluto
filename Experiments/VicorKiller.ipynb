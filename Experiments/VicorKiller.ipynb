{
 "cells": [
  {
   "cell_type": "code",
   "execution_count": null,
   "metadata": {},
   "outputs": [],
   "source": [
    "import pyvisa\n",
    "import SW5250A\n",
    "import numpy as np\n",
    "from math import sqrt\n",
    "import time\n",
    "import instrument_strings"
   ]
  },
  {
   "cell_type": "code",
   "execution_count": null,
   "metadata": {},
   "outputs": [],
   "source": [
    "from SW5250A import SW5250A"
   ]
  },
  {
   "cell_type": "code",
   "execution_count": null,
   "metadata": {},
   "outputs": [],
   "source": [
    "rm = pyvisa.ResourceManager()\n",
    "for resource_id in rm.list_resources():\n",
    "    try:\n",
    "\n",
    "        inst = rm.open_resource(resource_id, send_end=True) #the VISA resource\n",
    "        name_str = inst.query('*IDN?').strip()\n",
    "        \n",
    "        if name_str == instrument_strings.SW5250A:\n",
    "            ac_supply = SW5250A(inst)\n",
    "            print(\"Connected to: \" + ac_supply.name.rstrip('\\n'))\n",
    "        \n",
    "    except pyvisa.errors.VisaIOError:\n",
    "        print(resource_id + \" is not what we're looking for, continuing...\\n\")"
   ]
  },
  {
   "cell_type": "code",
   "execution_count": null,
   "metadata": {},
   "outputs": [],
   "source": [
    "ac_supply.source_voltage(1,120)\n",
    "ac_supply.output_on()"
   ]
  },
  {
   "cell_type": "code",
   "execution_count": null,
   "metadata": {},
   "outputs": [],
   "source": [
    "for i in range(10):\n",
    "    ac_supply.source_voltage(1, 90)\n",
    "    time.sleep(1)\n",
    "    #ac_supply.source_voltage(1, 120)\n",
    "    #time.sleep(1)\n",
    "    ac_supply.source_voltage(1,264)\n",
    "    time.sleep(3)"
   ]
  },
  {
   "cell_type": "code",
   "execution_count": null,
   "metadata": {},
   "outputs": [],
   "source": [
    "ac_supply.output_off()"
   ]
  },
  {
   "cell_type": "code",
   "execution_count": null,
   "metadata": {},
   "outputs": [],
   "source": []
  }
 ],
 "metadata": {
  "kernelspec": {
   "display_name": "Python 3",
   "language": "python",
   "name": "python3"
  },
  "language_info": {
   "codemirror_mode": {
    "name": "ipython",
    "version": 3
   },
   "file_extension": ".py",
   "mimetype": "text/x-python",
   "name": "python",
   "nbconvert_exporter": "python",
   "pygments_lexer": "ipython3",
   "version": "3.7.1"
  }
 },
 "nbformat": 4,
 "nbformat_minor": 2
}
