{
 "cells": [
  {
   "cell_type": "markdown",
   "metadata": {},
   "source": [
    "![alt text](http://localhost:8888/tree/Images/pwr_test_title.PNG \"Title\")"
   ]
  },
  {
   "cell_type": "markdown",
   "metadata": {},
   "source": [
    "### Introduction   \n",
    "Welcome to the script to operate the PWR board test jig. To run, ensure the jig's USB cable is plugged into your computer, and the power strip is powered. This test sytem leverages industry standard communication protocol called [SCPI] [1] to control 3 instruments:\n",
    "    1. Keysight data aquisition unit, 34972A\n",
    "    2. Instek PSW high-voltage supply\n",
    "    3. Instek PSW low-voltage supply\n",
    "\n",
    "The instrument control software is implemented with the [VISA] [2] model, using [PyVISA] [3]\n",
    "In addition, an interface board (AK part # 385-0036-00) is used to route signals and power paths to the Device-Under-Test (DUT).\n",
    "#### Dependencies\n",
    "    1.  Python 3 (latest version)\n",
    "    2.  PyVisa\n",
    "    3.  Pandas\n",
    "    4.  Numpy\n",
    "    5.  Scipy\n",
    "    \n",
    "[1]: https://en.wikipedia.org/wiki/Standard\\_Commands\\_for\\_Programmable\\_Instruments \"SCPI\"\n",
    "[2]: https://en.wikipedia.org/wiki/Virtual\\_instrument\\_software_architecture \"VISA\"\n",
    "[3]: https://pyvisa.readthedocs.io/en/master/ \"PyVISA\"\n",
    "[4]: "
   ]
  },
  {
   "cell_type": "code",
   "execution_count": 1,
   "metadata": {},
   "outputs": [],
   "source": [
    "from IPython.core.interactiveshell import InteractiveShell\n",
    "InteractiveShell.ast_node_interactivity = \"all\"\n",
    "import pandas as pd\n",
    "import numpy as np\n",
    "from PWRTestIO import *\n",
    "import Keysight34972A\n",
    "import InstekPSW\n",
    "import pyvisa\n",
    "import instrument_strings\n",
    "import random\n",
    "import time\n",
    "from datetime import datetime\n",
    "import matplotlib.pyplot as plt\n",
    "import os, sys\n",
    "from pwr_board_test_class import pwr_board_test_class, quantity"
   ]
  },
  {
   "cell_type": "code",
   "execution_count": 2,
   "metadata": {},
   "outputs": [],
   "source": [
    "ConfigPath = os.path.join(os.path.expanduser('~'), 'git', 'pluto', 'PWRAutomatedTest', 'PWR_Board_TestReportTemplate.xlsx')\n",
    "test_df = pd.read_excel(ConfigPath, 'Report')\n",
    "quantity_df= pd.read_excel(ConfigPath, 'Quantities')"
   ]
  },
  {
   "cell_type": "code",
   "execution_count": 3,
   "metadata": {},
   "outputs": [],
   "source": [
    "#column_names = df1.columns.tolist()\n",
    "tests = []\n",
    "\n",
    "for row in test_df.iterrows():\n",
    "    ser = row[1] #(index, Series) comes from iterrows()\n",
    "    column_names = ser.index.tolist()\n",
    "    my_dict = {}\n",
    "    for column_name in column_names:\n",
    "        my_dict[column_name] = ser[column_name]\n",
    "    tests.append(pwr_board_test_class(my_dict))\n",
    "quantities = {}\n",
    "for row in quantity_df.iterrows():\n",
    "    ser = row[1] #(index, Series) comes from iterrows()\n",
    "    column_names = ser.index.tolist()\n",
    "    my_dict = {}\n",
    "    for column_name in column_names:\n",
    "        my_dict[column_name] = ser[column_name]\n",
    "    new_quantity = quantity(my_dict)\n",
    "    quantities[new_quantity.getStringName()] = new_quantity"
   ]
  },
  {
   "cell_type": "code",
   "execution_count": 4,
   "metadata": {},
   "outputs": [
    {
     "name": "stdout",
     "output_type": "stream",
     "text": [
      "Connected to: Agilent Technologies,34972A,MY49023653,1.17-1.12-02-02\n",
      "Connected to: GW-INSTEK,PSW800-4.32,GER190132,01.87.20170307\n",
      "Connected to: GW-INSTEK,PSW80-13.5,GER132400,01.87.20170307\n"
     ]
    }
   ],
   "source": [
    "rm = pyvisa.ResourceManager()\n",
    "for resource_id in rm.list_resources():\n",
    "    try:\n",
    "        inst = rm.open_resource(resource_id, send_end=True) #the VISA resource\n",
    "        name_str = inst.query('*IDN?').strip()\n",
    "        if name_str == instrument_strings.Keysight34972A:\n",
    "            daq = Keysight34972A.Keysight34972A(inst)\n",
    "            print(\"Connected to: \" + daq.name.rstrip('\\n'))\n",
    "        if name_str == instrument_strings.PSW800:\n",
    "            hv_supply = InstekPSW.InstekPSW(inst)\n",
    "            print(\"Connected to: \" + hv_supply.name.rstrip('\\n'))\n",
    "        if name_str == instrument_strings.PSW80V:\n",
    "            lv_supply = InstekPSW.InstekPSW(inst)\n",
    "            print(\"Connected to: \" + lv_supply.name.rstrip('\\n'))\n",
    "            \n",
    "    except pyvisa.errors.VisaIOError:\n",
    "        print(resource_id + \" is not what we're looking for, continuing...\\n\")"
   ]
  },
  {
   "cell_type": "markdown",
   "metadata": {},
   "source": [
    "Here is some initial setup and configuration of the jig.   \n",
    "    1.   Turn off the loads     \n",
    "    2.   Turn of the flyback and hvbuck converters   \n",
    "    3.   Turn off the supplies   \n",
    "    4.   Use the Mx+b scaling feature of the Keysight 34972A   "
   ]
  },
  {
   "cell_type": "code",
   "execution_count": 5,
   "metadata": {},
   "outputs": [
    {
     "name": "stdout",
     "output_type": "stream",
     "text": [
      "hi\n"
     ]
    }
   ],
   "source": [
    "daq.configure_DCV_channels('(@201:208,210:214)')\n",
    "daq.format_reading()\n",
    "for quantity in quantities.values():\n",
    "    daq.setScale(quantity.getScale(), quantity.getChannel())\n",
    "    daq.setOffset(quantity.getOffset(), quantity.getChannel())\n",
    "daq.useScaling()  \n",
    "load1_off(daq)\n",
    "load2_off(daq)\n",
    "load3_off(daq)\n",
    "flyback_off(daq)\n",
    "buck_off(daq)\n",
    "lv_supply.apply(0,.1)\n",
    "lv_supply.set_output('OFF')\n",
    "lv_supply.set_output_mode(0) #no slew rate limit\n",
    "hv_supply.set_output_mode(0) #no slew rate limit\n",
    "print('hi')"
   ]
  },
  {
   "cell_type": "markdown",
   "metadata": {},
   "source": [
    "### Test 0\n",
    "Measure the rising UVLO threshold on the LTC4417 PSUA channel, with zero load. "
   ]
  },
  {
   "cell_type": "code",
   "execution_count": 6,
   "metadata": {},
   "outputs": [],
   "source": [
    "def Sweep(start, stop, outputQuantity, inputQuantity, lv_supply, daq, test):\n",
    "    test.setMeasurement(np.NaN)\n",
    "    lv_supply.apply(0,.1)\n",
    "    lv_supply.set_output('ON')\n",
    "    \n",
    "    lower_bound = outputQuantity.getMin()\n",
    "    upper_bound = outputQuantity.getMax()\n",
    "    nominal = outputQuantity.getNominal()\n",
    "    \n",
    "    case1 = (lower_bound < stop < upper_bound) and (stop - start) > 0 #ending up in range, decreasing from OVLO\n",
    "    case2 = (lower_bound < stop < upper_bound) and (stop - start) < 0 #ending up in range, increasing from UVLO\n",
    "    case3 = stop < nominal #decrease to see falling threshold of UVLO\n",
    "    case4 = stop > nominal #increase to see increasing threshold of UVLO\n",
    "\n",
    "    if case1 or case2:\n",
    "        for i in np.arange(start, stop, np.sign(stop-start)*.01):\n",
    "\n",
    "            lv_supply.apply(i, 1)   \n",
    "            time.sleep(.1)\n",
    "            outputQuantity.measure(daq)\n",
    "            if outputQuantity.isValid():\n",
    "                test.setMeasurement(inputQuantity.getMeasurement())\n",
    "                break\n",
    "    elif case3 or case4:\n",
    "        for i in np.arange(start, stop, np.sign(stop-start)*.01):\n",
    "            lv_supply.apply(i, 1)   \n",
    "            time.sleep(.1)\n",
    "            outputQuantity.measure(daq)\n",
    "            if not outputQuantity.isValid():\n",
    "                test.setMeasurement(inputQuantity.getMeasurement())\n",
    "                break        \n",
    "\n",
    "    print(test.report())\n",
    "        "
   ]
  },
  {
   "cell_type": "code",
   "execution_count": 7,
   "metadata": {},
   "outputs": [
    {
     "name": "stdout",
     "output_type": "stream",
     "text": [
      "Test 0: Measured: nanV, Status: False\n"
     ]
    }
   ],
   "source": [
    "Sweep(20,24, quantities['24Vout'], quantities['PSUA'], lv_supply, daq, tests[0])"
   ]
  },
  {
   "cell_type": "code",
   "execution_count": null,
   "metadata": {},
   "outputs": [],
   "source": [
    "close_rl5(daq)\n",
    "time.sleep(0.1)\n",
    "lv_supply.apply(0,.1)\n",
    "lv_supply.set_output('ON')\n",
    "for i in np.arange(20, 24, .01): #sweep voltage range\n",
    "    lv_supply.apply(i, 1) #(voltage, current)\n",
    "    time.sleep(.1)\n",
    "    quantities['24Vout'].measure(daq)\n",
    "    if quantities['24Vout'].isValid():\n",
    "        quantities['PSUA'].measure(daq)\n",
    "        tests[0].setMeasurement(quantities['PSUA'].getMeasurement())\n",
    "        break\n",
    "print(tests[0].report())\n",
    "#lv_supply.apply(0,.1)\n",
    "#lv_supply.set_output('OFF')    "
   ]
  },
  {
   "cell_type": "markdown",
   "metadata": {},
   "source": [
    "### Test 1\n",
    "Measure the decreasing UVLO threshold on the LTC4417 PSUA channel, with zero load. "
   ]
  },
  {
   "cell_type": "code",
   "execution_count": null,
   "metadata": {},
   "outputs": [],
   "source": [
    "#close_rl5(daq)\n",
    "lv_supply.apply(24,1)\n",
    "#lv_supply.set_output('ON')\n",
    "time.sleep(1)\n",
    "for i in np.arange(21, 19, -.01):\n",
    "    lv_supply.apply(i, 1)\n",
    "    time.sleep(.1)\n",
    "    quantities['24Vout'].measure(daq)\n",
    "    if not quantities['24Vout'].isValid():\n",
    "        quantities['PSUA'].measure(daq)\n",
    "        tests[1].setMeasurement(quantities['PSUA'].getMeasurement())\n",
    "        break\n",
    "print(tests[1].report())\n",
    "lv_supply.apply(0,.1)\n",
    "lv_supply.set_output('OFF')"
   ]
  },
  {
   "cell_type": "markdown",
   "metadata": {},
   "source": [
    "### Test 2\n",
    "Measure the increasing OVLO threshold on the LTC4417 PSUA channel, zero load."
   ]
  },
  {
   "cell_type": "code",
   "execution_count": null,
   "metadata": {},
   "outputs": [],
   "source": [
    "Sweep(28, 32, quantities['24Vout'], quantities['PSUA'], lv_supply, daq, tests[2])\n"
   ]
  },
  {
   "cell_type": "markdown",
   "metadata": {},
   "source": [
    "### Test 9\n",
    "Time the HV Cap charging. "
   ]
  },
  {
   "cell_type": "code",
   "execution_count": null,
   "metadata": {},
   "outputs": [],
   "source": [
    "close_rl5(daq)\n",
    "\n",
    "daq.monitor(quantities['HVCAP'])\n",
    "quantities['HVCAP'].clearMeasurement()\n",
    "lv_supply.apply(24,2)\n",
    "lv_supply.set_output('ON')\n",
    "start = datetime.now()\n",
    "flyback_on(daq)\n",
    "set_discharge_Vgs(daq, 0)\n",
    "while True:\n",
    "    cap_voltage = daq.monitorData()\n",
    "    quantities['HVCAP'].setMeasurement(cap_voltage)\n",
    "    finish = datetime.now()\n",
    "    seconds = (finish - start).seconds\n",
    "    if quantities['HVCAP'].isValid():\n",
    "        print('Final Cap Voltage: {:.0f}'.format(cap_voltage))\n",
    "        tests[9].setMeasurement(seconds)\n",
    "        break\n",
    "    if seconds > 200:\n",
    "        #make it fail and explicity write to measurement\n",
    "        tests[9].setMeasurement(np.Nan)\n",
    "        break\n",
    "print(tests[9].report())\n",
    "flyback_off(daq)\n",
    "load1_on(daq)\n",
    "load2_on(daq)\n",
    "lv_supply.set_output('OFF')\n",
    "time.sleep(4)\n",
    "cap_voltage = daq.monitorData()\n",
    "if cap_voltage < 10:\n",
    "    print('MeanWell discharged Caps to < 10V')\n",
    "discharge_caps(2, quantities['HVCAP'], quantities['BuckCurrent'], daq)\n",
    "daq.monitor(quantities['HVCAP'])\n",
    "print('Remaining Cap Voltage: {:.1f}'.format(daq.monitorData()))\n",
    "load1_off(daq)\n",
    "load2_off(daq)    "
   ]
  },
  {
   "cell_type": "code",
   "execution_count": null,
   "metadata": {},
   "outputs": [],
   "source": [
    "#discharge_caps(2, quantities['HVCAP'], quantities['BuckCurrent'], daq)\n",
    "daq.monitor(quantities['HVCAP'])"
   ]
  },
  {
   "cell_type": "markdown",
   "metadata": {},
   "source": [
    "## High Voltage Diode Checks\n"
   ]
  },
  {
   "cell_type": "code",
   "execution_count": null,
   "metadata": {},
   "outputs": [],
   "source": [
    "load1_on(daq)\n",
    "load2_on(daq)\n",
    "flyback_off(daq)"
   ]
  },
  {
   "cell_type": "code",
   "execution_count": null,
   "metadata": {},
   "outputs": [],
   "source": [
    "DcBusChannel = quantities['TP1B'].getChannel()\n",
    "daq.monitor(DcBusChannel)\n",
    "#daq.configure_DCV_channels('(@{})'.format(DcBusChannel))\n",
    "daq.format_time_type(time_type='RELative')\n",
    "daq.format_reading(time=1)\n",
    "daq.set_scan('(@{})'.format(DcBusChannel))\n",
    "daq.set_trigger('TIMer')\n",
    "daq.set_timer(.2)\n",
    "daq.set_trigger_count(75)\n",
    "\n",
    "def SetupDiodeTestAndWait(daq, hv_supply, dc_level):\n",
    "    hv_supply.apply(dc_level,1)\n",
    "    hv_supply.set_output('ON')\n",
    "    time.sleep(2)\n",
    "    hv_supply.set_output('OFF')\n",
    "    daq.wait_for_trigger() \n",
    "    time.sleep(15)"
   ]
  },
  {
   "cell_type": "markdown",
   "metadata": {},
   "source": [
    "### Test 13\n",
    "D7H, D8H forward bias test\n",
    "D5H, D6H, D9H, D10H reverse bias. \n",
    "Relay config: all open / default state"
   ]
  },
  {
   "cell_type": "code",
   "execution_count": null,
   "metadata": {},
   "outputs": [],
   "source": [
    "open_rl1(daq)\n",
    "open_rl2(daq)\n",
    "open_rl3(daq)\n",
    "open_rl4(daq)\n",
    "\n",
    "SetupDiodeTestAndWait(daq, hv_supply, 200)\n",
    "data = daq.fetch_readings()\n",
    "ydata = data[0::2]\n",
    "xdata = data[1::2]\n",
    "#print(ydata)\n",
    "#print(xdata)\n",
    "tau = get_tau(xdata,ydata, 200)\n",
    "tests[12].setMeasurement(tau)\n",
    "print(tests[12].report())"
   ]
  },
  {
   "cell_type": "code",
   "execution_count": null,
   "metadata": {},
   "outputs": [],
   "source": [
    "plt.plot(xdata, ydata, 'b-', label='data')"
   ]
  },
  {
   "cell_type": "markdown",
   "metadata": {},
   "source": [
    "### Test 14\n",
    "D6H,D8H forward bias test\n",
    "D5H, D7H, D9H, D10H reverse bias.\n",
    "Relay config: RL4 closed, RL1-3 open"
   ]
  },
  {
   "cell_type": "code",
   "execution_count": null,
   "metadata": {},
   "outputs": [],
   "source": [
    "open_rl1(daq)\n",
    "open_rl2(daq)\n",
    "open_rl3(daq)\n",
    "close_rl4(daq)\n",
    "\n",
    "SetupDiodeTestAndWait(daq,hv_supply)\n",
    "data = daq.fetch_readings()\n",
    "ydata = data[0::2]\n",
    "xdata = data[1::2]\n",
    "tau = get_tau(xdata,ydata)\n",
    "tests[13].setMeasurement(tau)\n",
    "print(tests[13].report())\n"
   ]
  },
  {
   "cell_type": "markdown",
   "metadata": {},
   "source": [
    "### Test 15\n",
    "D5H,D9H forward bias test\n",
    "D6H, D7H, D8H, D10H reverse bias.\n",
    "Relay config: RL3 closed, RL1,2,4 open. "
   ]
  },
  {
   "cell_type": "code",
   "execution_count": null,
   "metadata": {},
   "outputs": [],
   "source": [
    "open_rl1(daq)\n",
    "open_rl2(daq)\n",
    "close_rl3(daq)\n",
    "open_rl4(daq)\n",
    "\n",
    "SetupDiodeTestAndWait(daq,hv_supply)\n",
    "data = daq.fetch_readings()\n",
    "ydata = data[0::2]\n",
    "xdata = data[1::2]\n",
    "tau = get_tau(xdata,ydata)\n",
    "tests[14].setMeasurement(tau)\n",
    "print(tests[14].report())"
   ]
  },
  {
   "cell_type": "markdown",
   "metadata": {},
   "source": [
    "### Test 19\n",
    "HVBuck Bootstrap: TP2B is 24V whenever 24Vout is within range. "
   ]
  },
  {
   "cell_type": "code",
   "execution_count": null,
   "metadata": {},
   "outputs": [],
   "source": [
    "close_rl5(daq)\n",
    "flyback_off(daq)\n",
    "buck_off(daq)\n"
   ]
  },
  {
   "cell_type": "code",
   "execution_count": null,
   "metadata": {},
   "outputs": [],
   "source": [
    "lv_supply.apply(24,1)\n",
    "lv_supply.set_output('ON')\n",
    "time.sleep(.5)\n",
    "bootstrap = daq.measure_DCV(quantities['TP2B'].getChannel())\n",
    "tests[18].setMeasurement(bootstrap)\n",
    "print(tests[18].report())\n",
    "lv_supply.set_output('OFF')"
   ]
  },
  {
   "cell_type": "markdown",
   "metadata": {},
   "source": [
    "### Test 20\n",
    "Test the boostrap circuit consisting of M1B, D12B, D11B, R1B-R4B, D9B"
   ]
  },
  {
   "cell_type": "code",
   "execution_count": null,
   "metadata": {},
   "outputs": [],
   "source": [
    "hv_supply.apply(290, .5)\n",
    "hv_supply.set_output('ON')\n",
    "TP2B_channel = quantities['TP2B'].getChannel()\n",
    "daq.monitor(TP2B_channel)\n",
    "time.sleep(1)\n",
    "bootstrap = daq.measure_DCV(TP2B_channel)\n",
    "tests[19].setMeasurement(bootstrap)\n",
    "print(tests[19].report())\n",
    "hv_supply.set_output('OFF')"
   ]
  },
  {
   "cell_type": "markdown",
   "metadata": {},
   "source": [
    "### Test 24\n",
    "Turn the buck control signal to ON and measure Buck output, using U1 to power HVBuck at startup. \n",
    "The buck must charge the large HV caps. "
   ]
  },
  {
   "cell_type": "code",
   "execution_count": null,
   "metadata": {},
   "outputs": [],
   "source": [
    "BuckChannel = quantities['TP5B'].getChannel()\n",
    "daq.monitor(BuckChannel)\n",
    "buck_on(daq)\n",
    "load1_off(daq)\n",
    "load2_off(daq)\n",
    "close_rl5(daq)\n",
    "lv_supply.apply(24, 10)\n",
    "lv_supply.set_output('ON')\n",
    "hv_supply.apply(400, .9)\n",
    "hv_supply.set_output('ON')\n",
    "if not hv_supply.get_protection_state():\n",
    "    time.sleep(5)\n",
    "else:\n",
    "    lv_supply.set_output('OFF')\n",
    "    hv_supply.set_output('OFF')\n",
    "    load1_on(daq)\n",
    "    print('CAUTION!')\n",
    "buckoutput = daq.monitorData()\n",
    "tests[23].setMeasurement(buckoutput)\n",
    "lv_supply.set_output('OFF')\n",
    "hv_supply.set_output('OFF')\n",
    "load1_on(daq)\n",
    "print(tests[23].report())"
   ]
  },
  {
   "cell_type": "code",
   "execution_count": null,
   "metadata": {},
   "outputs": [],
   "source": [
    "buck_on(daq)\n",
    "load1_off(daq)\n",
    "load2_off(daq)\n",
    "close_rl5(daq)\n",
    "lv_supply.apply(24, 10)\n",
    "lv_supply.set_output('ON')\n",
    "hv_supply.apply(400, 1)\n",
    "hv_supply.set_output('ON')"
   ]
  },
  {
   "cell_type": "code",
   "execution_count": null,
   "metadata": {},
   "outputs": [],
   "source": [
    "#lv_supply.set_output('OFF')\n",
    "#hv_supply.set_output('OFF')\n",
    "load1_on(daq)\n",
    "flyback_off(daq)\n",
    "lv_supply.apply(0, .10)"
   ]
  },
  {
   "cell_type": "code",
   "execution_count": null,
   "metadata": {},
   "outputs": [],
   "source": [
    "buck_off(daq)\n",
    "hv_supply.apply(400, .8)\n",
    "hv_supply.set_output('ON')"
   ]
  },
  {
   "cell_type": "code",
   "execution_count": null,
   "metadata": {},
   "outputs": [],
   "source": [
    "daq.inst.write('*CLS')"
   ]
  },
  {
   "cell_type": "code",
   "execution_count": null,
   "metadata": {},
   "outputs": [],
   "source": [
    "daq.monitor(quantities['HVCAP'])\n",
    "for i in range(4):\n",
    "    print(daq.monitorData())"
   ]
  },
  {
   "cell_type": "code",
   "execution_count": null,
   "metadata": {},
   "outputs": [],
   "source": []
  }
 ],
 "metadata": {
  "kernelspec": {
   "display_name": "Python 3",
   "language": "python",
   "name": "python3"
  },
  "language_info": {
   "codemirror_mode": {
    "name": "ipython",
    "version": 3
   },
   "file_extension": ".py",
   "mimetype": "text/x-python",
   "name": "python",
   "nbconvert_exporter": "python",
   "pygments_lexer": "ipython3",
   "version": "3.6.3"
  }
 },
 "nbformat": 4,
 "nbformat_minor": 2
}
