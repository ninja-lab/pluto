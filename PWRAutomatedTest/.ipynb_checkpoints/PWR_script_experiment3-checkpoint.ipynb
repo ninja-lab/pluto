{
 "cells": [
  {
   "cell_type": "markdown",
   "metadata": {},
   "source": [
    "![alt text](http://localhost:8888/tree/Images/pwr_test_title.PNG \"Title\")"
   ]
  },
  {
   "cell_type": "markdown",
   "metadata": {},
   "source": [
    "### Introduction   \n",
    "Welcome to the script to operate the PWR board test jig. To run, ensure the jig's USB cable is plugged into your computer, and the power strip is powered. This test sytem leverages industry standard communication protocol called [SCPI] [1] to control 3 instruments:\n",
    "    1. Keysight data aquisition unit, 34972A\n",
    "    2. Instek PSW high-voltage supply\n",
    "    3. Instek PSW low-voltage supply\n",
    "\n",
    "The instrument control software is implemented with the [VISA] [2] model, using [PyVISA] [3]\n",
    "In addition, an interface board (AK part # 385-0036-00) is used to route signals and power paths to the Device-Under-Test (DUT).\n",
    "#### Dependencies\n",
    "    1.  Python 3 (latest version)\n",
    "    2.  PyVisa\n",
    "    3.  Pandas\n",
    "    4.  Numpy\n",
    "    5.  Scipy\n",
    "    \n",
    "[1]: https://en.wikipedia.org/wiki/Standard\\_Commands\\_for\\_Programmable\\_Instruments \"SCPI\"\n",
    "[2]: https://en.wikipedia.org/wiki/Virtual\\_instrument\\_software_architecture \"VISA\"\n",
    "[3]: https://pyvisa.readthedocs.io/en/master/ \"PyVISA\"\n",
    "[4]: "
   ]
  },
  {
   "cell_type": "code",
   "execution_count": null,
   "metadata": {},
   "outputs": [],
   "source": [
    "from IPython.core.interactiveshell import InteractiveShell\n",
    "InteractiveShell.ast_node_interactivity = \"all\"\n",
    "import pandas as pd\n",
    "import numpy as np\n",
    "from PWRTestIO import *\n",
    "import Keysight34972A\n",
    "import InstekPSW\n",
    "import pyvisa\n",
    "import instrument_strings\n",
    "import random\n",
    "import time\n",
    "from datetime import datetime\n",
    "import matplotlib.pyplot as plt\n",
    "import os, sys\n",
    "from pwr_board_test_class import pwr_board_test_class, quantity"
   ]
  },
  {
   "cell_type": "code",
   "execution_count": null,
   "metadata": {},
   "outputs": [],
   "source": [
    "ConfigPath = os.path.join(os.path.expanduser('~'), 'git', 'pluto', 'PWRAutomatedTest', 'PWR_Board_TestReportTemplate.xlsx')\n",
    "test_df = pd.read_excel(ConfigPath, 'Report')\n",
    "quantity_df= pd.read_excel(ConfigPath, 'Quantities')"
   ]
  },
  {
   "cell_type": "code",
   "execution_count": null,
   "metadata": {},
   "outputs": [],
   "source": [
    "SerialNumber = input('Enter 385-0036-00 serial number: ')"
   ]
  },
  {
   "cell_type": "code",
   "execution_count": null,
   "metadata": {},
   "outputs": [],
   "source": [
    "#column_names = df1.columns.tolist()\n",
    "tests = []\n",
    "\n",
    "for row in test_df.iterrows():\n",
    "    ser = row[1] #(index, Series) comes from iterrows()\n",
    "    column_names = ser.index.tolist()\n",
    "    my_dict = {}\n",
    "    for column_name in column_names:\n",
    "        my_dict[column_name] = ser[column_name]\n",
    "    tests.append(pwr_board_test_class(my_dict))\n",
    "quantities = {}\n",
    "for row in quantity_df.iterrows():\n",
    "    ser = row[1] #(index, Series) comes from iterrows()\n",
    "    column_names = ser.index.tolist()\n",
    "    my_dict = {}\n",
    "    for column_name in column_names:\n",
    "        my_dict[column_name] = ser[column_name]\n",
    "    new_quantity = quantity(my_dict)\n",
    "    quantities[new_quantity.getStringName()] = new_quantity"
   ]
  },
  {
   "cell_type": "code",
   "execution_count": null,
   "metadata": {},
   "outputs": [],
   "source": [
    "rm = pyvisa.ResourceManager()\n",
    "for resource_id in rm.list_resources():\n",
    "    try:\n",
    "        inst = rm.open_resource(resource_id, send_end=True) #the VISA resource\n",
    "        name_str = inst.query('*IDN?').strip()\n",
    "        if name_str == instrument_strings.Keysight34972A:\n",
    "            daq = Keysight34972A.Keysight34972A(inst)\n",
    "            print(\"Connected to: \" + daq.name.rstrip('\\n'))\n",
    "        if name_str == instrument_strings.PSW800:\n",
    "            hv_supply = InstekPSW.InstekPSW(inst)\n",
    "            print(\"Connected to: \" + hv_supply.name.rstrip('\\n'))\n",
    "        if name_str == instrument_strings.PSW80V:\n",
    "            lv_supply = InstekPSW.InstekPSW(inst)\n",
    "            print(\"Connected to: \" + lv_supply.name.rstrip('\\n'))\n",
    "            \n",
    "    except pyvisa.errors.VisaIOError:\n",
    "        print(resource_id + \" is not what we're looking for, continuing...\\n\")"
   ]
  },
  {
   "cell_type": "markdown",
   "metadata": {},
   "source": [
    "Here is some initial setup and configuration of the jig.   \n",
    "    1.   Turn off the loads     \n",
    "    2.   Turn of the flyback and hvbuck converters   \n",
    "    3.   Turn off the supplies   \n",
    "    4.   Use the Mx+b scaling feature of the Keysight 34972A   "
   ]
  },
  {
   "cell_type": "code",
   "execution_count": null,
   "metadata": {},
   "outputs": [],
   "source": [
    "daq.configure_DCV_channels('(@201:208,210:214)')\n",
    "daq.format_reading()\n",
    "for my_quantity in quantities.values():\n",
    "    daq.setScale(my_quantity.getScale(), my_quantity.getChannel())\n",
    "    daq.setOffset(my_quantity.getOffset(), my_quantity.getChannel())\n",
    "daq.useScaling()  \n",
    "load1_off(daq)\n",
    "load2_off(daq)\n",
    "load3_off(daq)\n",
    "flyback_off(daq)\n",
    "buck_off(daq)\n",
    "lv_supply.apply(0,.1)\n",
    "lv_supply.set_output('OFF')\n",
    "lv_supply.set_output_mode(0) #no slew rate limit\n",
    "hv_supply.set_output_mode(0) #no slew rate limit\n",
    "print('hi')"
   ]
  },
  {
   "cell_type": "markdown",
   "metadata": {},
   "source": [
    "### Test 0\n",
    "Measure the rising UVLO threshold on the LTC4417 PSUA channel, with zero load. "
   ]
  },
  {
   "cell_type": "code",
   "execution_count": null,
   "metadata": {},
   "outputs": [],
   "source": [
    "close_rl5(daq)\n",
    "time.sleep(0.1)\n",
    "lv_supply.apply(0,.1)\n",
    "lv_supply.set_output('ON')\n",
    "for i in np.arange(20, 24, .01): #sweep voltage range\n",
    "    lv_supply.apply(i, 1) #(voltage, current)\n",
    "    time.sleep(.1)\n",
    "    quantities['24Vout'].measure(daq)\n",
    "    if quantities['24Vout'].isValid():\n",
    "        quantities['PSUA'].measure(daq)\n",
    "        tests[0].setMeasurement(quantities['PSUA'].getMeasurement())\n",
    "        break\n",
    "print(tests[0].report())\n",
    "#lv_supply.apply(0,.1)\n",
    "#lv_supply.set_output('OFF')    "
   ]
  },
  {
   "cell_type": "markdown",
   "metadata": {},
   "source": [
    "### Test 1\n",
    "Measure the decreasing UVLO threshold on the LTC4417 PSUA channel, with zero load. "
   ]
  },
  {
   "cell_type": "code",
   "execution_count": null,
   "metadata": {},
   "outputs": [],
   "source": [
    "#close_rl5(daq)\n",
    "lv_supply.apply(24,1)\n",
    "#lv_supply.set_output('ON')\n",
    "time.sleep(1)\n",
    "for i in np.arange(21, 19, -.01):\n",
    "    lv_supply.apply(i, 1)\n",
    "    time.sleep(.1)\n",
    "    quantities['24Vout'].measure(daq)\n",
    "    if not quantities['24Vout'].isValid():\n",
    "        quantities['PSUA'].measure(daq)\n",
    "        tests[1].setMeasurement(quantities['PSUA'].getMeasurement())\n",
    "        break\n",
    "print(tests[1].report())\n",
    "lv_supply.apply(0,.1)\n",
    "lv_supply.set_output('OFF')"
   ]
  },
  {
   "cell_type": "markdown",
   "metadata": {},
   "source": [
    "### Test 2\n",
    "Measure the increasing OVLO threshold on the LTC4417 PSUA channel, zero load."
   ]
  },
  {
   "cell_type": "code",
   "execution_count": null,
   "metadata": {},
   "outputs": [],
   "source": []
  },
  {
   "cell_type": "markdown",
   "metadata": {},
   "source": [
    "### Test 3\n",
    "Measure the falling OVLO threshold on the LTC4417 PSUA channel, zero load."
   ]
  },
  {
   "cell_type": "code",
   "execution_count": null,
   "metadata": {},
   "outputs": [],
   "source": []
  },
  {
   "cell_type": "markdown",
   "metadata": {},
   "source": [
    "### Test 4\n",
    "Measure the increasing UVLO threshold on the LTC4417 PSUB channel, zero load. "
   ]
  },
  {
   "cell_type": "code",
   "execution_count": null,
   "metadata": {},
   "outputs": [],
   "source": [
    "lv_supply.apply(0,.1)\n",
    "lv_supply.set_output('ON')\n",
    "\n",
    "open_rl5(daq)\n",
    "time.sleep(0.1)\n",
    "\n",
    "for i in np.arange(20, 24, .01): #sweep voltage range\n",
    "    lv_supply.apply(i, 1) #(voltage, current)\n",
    "    time.sleep(.1)\n",
    "    quantities['24Vout'].measure(daq)\n",
    "    if quantities['24Vout'].isValid():\n",
    "        quantities['PSUB'].measure(daq)\n",
    "        tests[4].setMeasurement(quantities['PSUA'].getMeasurement())\n",
    "        break\n",
    "print(tests[4].report()) "
   ]
  },
  {
   "cell_type": "markdown",
   "metadata": {},
   "source": [
    "### Test 5\n",
    "Measure the decreasing UVLO threshold on the LTC4417 PSUB channel, zero load."
   ]
  },
  {
   "cell_type": "code",
   "execution_count": null,
   "metadata": {},
   "outputs": [],
   "source": [
    "lv_supply.apply(24,1)\n",
    "lv_supply.set_output('ON')\n",
    "time.sleep(1)\n",
    "for i in np.arange(21, 19, -.01):\n",
    "    lv_supply.apply(i, 1)\n",
    "    time.sleep(.1)\n",
    "    quantities['24Vout'].measure(daq)\n",
    "    if not quantities['24Vout'].isValid():\n",
    "        quantities['PSUB'].measure(daq)\n",
    "        tests[5].setMeasurement(quantities['PSUB'].getMeasurement())\n",
    "        break\n",
    "print(tests[5].report())\n",
    "lv_supply.apply(0,.1)\n",
    "lv_supply.set_output('OFF')"
   ]
  },
  {
   "cell_type": "markdown",
   "metadata": {},
   "source": [
    "## High Voltage Diode Checks\n"
   ]
  },
  {
   "cell_type": "code",
   "execution_count": null,
   "metadata": {},
   "outputs": [],
   "source": [
    "DcBusChannel = quantities['TP1B'].getChannel()\n",
    "daq.monitorQuantity(quantities['TP1B'])\n",
    "daq.format_time_type(time_type='RELative')\n",
    "daq.format_reading(time=1)\n",
    "daq.set_scan('(@{})'.format(DcBusChannel))\n",
    "daq.set_trigger('TIMer')\n",
    "daq.set_timer(.2)\n",
    "daq.set_trigger_count(75)\n",
    "DC_level = 200\n",
    "def SetupDiodeTestAndWait(daq, hv_supply, DC_level):\n",
    "    hv_supply.apply(DC_level,1)\n",
    "    hv_supply.set_output('ON')\n",
    "    time.sleep(2)\n",
    "    hv_supply.set_output('OFF')\n",
    "    daq.wait_for_trigger() \n",
    "    time.sleep(15)"
   ]
  },
  {
   "cell_type": "markdown",
   "metadata": {},
   "source": [
    "### Test 13\n",
    "D7H, D8H forward bias test\n",
    "D5H, D6H, D9H, D10H reverse bias. \n",
    "Relay config: all open / default state"
   ]
  },
  {
   "cell_type": "code",
   "execution_count": null,
   "metadata": {},
   "outputs": [],
   "source": [
    "open_rl1(daq)\n",
    "open_rl2(daq)\n",
    "open_rl3(daq)\n",
    "open_rl4(daq)\n",
    "\n",
    "SetupDiodeTestAndWait(daq, hv_supply, DC_level)\n",
    "data = daq.fetch_readings()\n",
    "ydata = data[0::2]\n",
    "xdata = data[1::2]\n",
    "tau = get_tau(xdata,ydata, DC_level)\n",
    "tests[13].setMeasurement(tau)\n",
    "print(tests[13].report())"
   ]
  },
  {
   "cell_type": "markdown",
   "metadata": {},
   "source": [
    "### Test 14\n",
    "D6H,D8H forward bias test\n",
    "D5H, D7H, D9H, D10H reverse bias.\n",
    "Relay config: RL4 closed, RL1-3 open"
   ]
  },
  {
   "cell_type": "code",
   "execution_count": null,
   "metadata": {},
   "outputs": [],
   "source": [
    "open_rl1(daq)\n",
    "open_rl2(daq)\n",
    "open_rl3(daq)\n",
    "close_rl4(daq)\n",
    "time.sleep(.1)\n",
    "SetupDiodeTestAndWait(daq,hv_supply, DC_level)\n",
    "data = daq.fetch_readings()\n",
    "ydata = data[0::2]\n",
    "xdata = data[1::2]\n",
    "tau = get_tau(xdata,ydata, DC_level)\n",
    "tests[14].setMeasurement(tau)\n",
    "print(tests[14].report())\n"
   ]
  },
  {
   "cell_type": "markdown",
   "metadata": {},
   "source": [
    "### Test 15\n",
    "D5H,D9H forward bias test\n",
    "D6H, D7H, D8H, D10H reverse bias.\n",
    "Relay config: RL3 closed, RL1,2,4 open. "
   ]
  },
  {
   "cell_type": "code",
   "execution_count": null,
   "metadata": {},
   "outputs": [],
   "source": [
    "open_rl1(daq)\n",
    "open_rl2(daq)\n",
    "close_rl3(daq)\n",
    "open_rl4(daq)\n",
    "time.sleep(.1)\n",
    "SetupDiodeTestAndWait(daq,hv_supply, DC_level)\n",
    "data = daq.fetch_readings()\n",
    "ydata = data[0::2]\n",
    "xdata = data[1::2]\n",
    "tau = get_tau(xdata,ydata, DC_level)\n",
    "tests[15].setMeasurement(tau)\n",
    "print(tests[15].report())"
   ]
  },
  {
   "cell_type": "markdown",
   "metadata": {},
   "source": [
    "### Test 16\n",
    "D5H,D10H forward bias test\n",
    "D6H, D7H, D8H, D9H reverse bias.\n",
    "Relay config: RL3,4 closed, RL1,2 open. "
   ]
  },
  {
   "cell_type": "code",
   "execution_count": null,
   "metadata": {},
   "outputs": [],
   "source": [
    "open_rl1(daq)\n",
    "open_rl2(daq)\n",
    "close_rl3(daq)\n",
    "close_rl4(daq)\n",
    "time.sleep(.1)\n",
    "SetupDiodeTestAndWait(daq,hv_supply, DC_level)\n",
    "data = daq.fetch_readings()\n",
    "ydata = data[0::2]\n",
    "xdata = data[1::2]\n",
    "tau = get_tau(xdata,ydata, DC_level)\n",
    "tests[16].setMeasurement(tau)\n",
    "print(tests[16].report())"
   ]
  },
  {
   "cell_type": "markdown",
   "metadata": {},
   "source": [
    "### Test 17\n",
    "D2H,D3H forward bias test\n",
    "All AC diodes reverse bias.\n",
    "Relay config: RL1 closed, RL2 open, other do not matter. "
   ]
  },
  {
   "cell_type": "code",
   "execution_count": null,
   "metadata": {},
   "outputs": [],
   "source": [
    "close_rl1(daq)\n",
    "open_rl2(daq)\n",
    "time.sleep(.1)\n",
    "SetupDiodeTestAndWait(daq,hv_supply, DC_level)\n",
    "data = daq.fetch_readings()\n",
    "ydata = data[0::2]\n",
    "xdata = data[1::2]\n",
    "tau = get_tau(xdata,ydata, DC_level)\n",
    "tests[17].setMeasurement(tau)\n",
    "print(tests[17].report())"
   ]
  },
  {
   "cell_type": "markdown",
   "metadata": {},
   "source": [
    "### Test 18\n",
    "D1H,D4H forward bias test\n",
    "All AC diodes reverse bias.\n",
    "Relay config: RL1 closed, RL2 closed, other do not matter. "
   ]
  },
  {
   "cell_type": "code",
   "execution_count": null,
   "metadata": {},
   "outputs": [],
   "source": [
    "close_rl1(daq)\n",
    "close_rl2(daq)\n",
    "time.sleep(.1)\n",
    "SetupDiodeTestAndWait(daq,hv_supply, DC_level)\n",
    "data = daq.fetch_readings()\n",
    "ydata = data[0::2]\n",
    "xdata = data[1::2]\n",
    "tau = get_tau(xdata,ydata, DC_level)\n",
    "tests[18].setMeasurement(tau)\n",
    "print(tests[18].report())"
   ]
  },
  {
   "cell_type": "markdown",
   "metadata": {},
   "source": [
    "### Test 19\n",
    "U1 R1S-2424/H isolated converter: TP2B is 24V whenever 24Vout is within range. "
   ]
  },
  {
   "cell_type": "code",
   "execution_count": null,
   "metadata": {},
   "outputs": [],
   "source": [
    "close_rl5(daq)\n",
    "time.sleep(.1)\n",
    "daq.monitorQuantity(quantities['TP2B'])\n",
    "lv_supply.apply(24,1)\n",
    "lv_supply.set_output('ON')\n",
    "time.sleep(5)\n",
    "bootstrap = daq.monitorData()\n",
    "tests[19].setMeasurement(bootstrap)\n",
    "print(tests[19].report())\n",
    "#lv_supply.set_output('OFF')"
   ]
  },
  {
   "cell_type": "markdown",
   "metadata": {},
   "source": [
    "### Test 20\n",
    "Test the boostrap circuit consisting of M1B, D12B, D11B, R1B-R4B, D9B    \n",
    "Note: It is not possible to measure the bootstrap    \n",
    "steady state while holding the buck off. U1 will override the bootstrap.\n"
   ]
  },
  {
   "cell_type": "code",
   "execution_count": null,
   "metadata": {},
   "outputs": [],
   "source": [
    "lv_supply.set_output('OFF')\n",
    "buck_on(daq) #doesn't really do anything without 24Vout present\n",
    "load1_off(daq)\n",
    "load2_off(daq)\n",
    "hv_supply.apply(290, 2)\n",
    "hv_supply.set_output('ON')\n",
    "daq.monitorQuantity(quantities['TP5B'])\n",
    "running_values = np.zeros(20, dtype=float)\n",
    "start = datetime.now()\n",
    "while True:\n",
    "    time.sleep(.1)\n",
    "    latest = daq.monitorData()\n",
    "    finish = datetime.now()\n",
    "    seconds = (finish - start).seconds\n",
    "    quantities['TP5B'].setMeasurement(latest)\n",
    "    running_values[:-1] = running_values[1:]\n",
    "    running_values[-1] = latest\n",
    "    settled = (np.diff(running_values) < .5).all()\n",
    "    if quantities['TP5B'].isValid() and settled:\n",
    "        tests[20].setMeasurement(latest)\n",
    "        time.sleep(2)\n",
    "        break\n",
    "    if seconds > 20:\n",
    "        tests[20].setMeasurement(np.NaN)\n",
    "        break\n",
    "hv_supply.set_output('OFF')\n",
    "print(tests[20].report())\n",
    "load1_on(daq)\n",
    "load2_on(daq)\n",
    "lv_supply.set_output('OFF')\n",
    "time.sleep(8)\n",
    "discharge_caps(2, quantities['HVCAP'], quantities['BuckCurrent'], daq)\n",
    "load1_off(daq)\n",
    "load2_off(daq)"
   ]
  },
  {
   "cell_type": "markdown",
   "metadata": {},
   "source": [
    "### Test 9 - 11\n",
    "Time the HV Cap charging time, charge voltage, and percent regulation."
   ]
  },
  {
   "cell_type": "code",
   "execution_count": null,
   "metadata": {},
   "outputs": [],
   "source": [
    "lv_supply.set_output('OFF')\n",
    "load1_off(daq)\n",
    "load2_off(daq)\n",
    "close_rl5(daq)\n",
    "time.sleep(.2)\n",
    "daq.monitorQuantity(quantities['HVCAP'])\n",
    "quantities['HVCAP'].clearMeasurement()\n",
    "lv_supply.apply(24,2)\n",
    "lv_supply.set_output('ON')\n",
    "start = datetime.now()\n",
    "flyback_on(daq)\n",
    "set_discharge_Vgs(daq, 0)\n",
    "running_values = np.arange(0,20,1, dtype=float)\n",
    "while True:\n",
    "    time.sleep(.5)\n",
    "    cap_voltage = daq.monitorData()\n",
    "    running_values[:-1] = running_values[1:]\n",
    "    running_values[-1] = cap_voltage\n",
    "    quantities['HVCAP'].setMeasurement(cap_voltage)\n",
    "    finish = datetime.now()\n",
    "    seconds = (finish - start).seconds\n",
    "    settled = (np.diff(running_values) < .5).all()\n",
    "    if quantities['HVCAP'].isValid() and settled:\n",
    "        time.sleep(.1)\n",
    "        tests[9].setMeasurement(seconds)\n",
    "        print('Caps are charged')\n",
    "        print(\"sleeping for 10 seconds\")\n",
    "        time.sleep(10)\n",
    "        break\n",
    "    if seconds > 170:\n",
    "        #make it fail and explicity write to measurement\n",
    "        tests[9].setMeasurement(np.NaN)\n",
    "        tests[10].setMeasurement(np.NaN)\n",
    "        break\n",
    "\n",
    "for i in range(11):\n",
    "    cap_voltage = daq.monitorData()\n",
    "    running_values[:-1] = running_values[1:]\n",
    "    running_values[-1] = cap_voltage\n",
    "    time.sleep(.2)\n",
    "mean_value = np.mean(running_values)\n",
    "tests[10].setMeasurement(mean_value)\n",
    "max_value = np.amax(running_values)\n",
    "min_value = np.amin(running_values)\n",
    "reg = (max_value - min_value)*100/mean_value\n",
    "tests[11].setMeasurement(reg)\n",
    "print(tests[9].report())\n",
    "print(tests[10].report())\n",
    "print(tests[11].report())\n",
    "print('DANGER: CAPS ARE CHARGED')\n",
    "\n"
   ]
  },
  {
   "cell_type": "markdown",
   "metadata": {},
   "source": [
    "### From this point forward, the SPM sequence is tested. \n",
    "1. caps are already charged\n",
    "2. turn on the loads\n",
    "3. allow buck to turn on using buck_on(daq)\n",
    "4. turn on hv_supply\n",
    "5. verify SPM is inactive (test 28)\n",
    "6. turn off PSUA\n",
    "6. verify SPM is active (test 27)\n",
    "7. check the buck is on (test 24)\n",
    "8. log the efficiency (test 25)\n",
    "9. "
   ]
  },
  {
   "cell_type": "markdown",
   "metadata": {},
   "source": [
    "### Test 24\n",
    "Turn the buck control signal to ON and measure Buck output, using U1 to power HVBuck at startup.     \n",
    "The buck must charge the large HV caps, which takes several seconds."
   ]
  },
  {
   "cell_type": "code",
   "execution_count": null,
   "metadata": {},
   "outputs": [],
   "source": [
    "lv_supply.apply(24, 10) #increase the current limit from the charging test\n",
    "time.sleep(.5)\n",
    "load1_on(daq)\n",
    "load2_on(daq) #loads on to exercise the HVBuck\n",
    "buck_on(daq)\n",
    "hv_supply.apply(400, .9)\n",
    "hv_supply.set_output('ON')\n",
    "hv_supply.display(1) #show voltage and power\n",
    "spm_level = daq.measure_DCV(quantities['SPM'].getChannel())\n",
    "flt_out = daq.measure_DCV(quantities['FLT_OUT'].getChannel())\n",
    "tests[28].setMeasurement(spm_level) \n",
    "tests[32].setMeasurement(flt_out)\n",
    "lv_supply.set_output('OFF') #shutting off PSUA triggers SPM mode\n",
    "while True:\n",
    "    quantities['HVCAP'].measure(daq)\n",
    "    if quantities['HVCAP'].getMeasurement() < 245:\n",
    "        break\n",
    "    time.sleep(.1)\n",
    "spm_level = daq.measure_DCV(quantities['SPM'].getChannel())\n",
    "flt_out = daq.measure_DCV(quantities['FLT_OUT'].getChannel())\n",
    "tests[27].setMeasurement(spm_level)\n",
    "tests[31].setMeasurement(flt_out)\n",
    "time.sleep(3) #required to let the hv_supply reach steady state\n",
    "quantities['TP5B'].measure(daq)\n",
    "vout= quantities['TP5B'].getMeasurement()\n",
    "quantities['BuckCurrent'].measure(daq)\n",
    "iout = quantities['BuckCurrent'].getMeasurement()\n",
    "print('iout: {}'.format(iout))\n",
    "tests[24].setMeasurement(vout)\n",
    "vin = hv_supply.get_voltage()\n",
    "print('vin: {}'.format(vin))\n",
    "iin = hv_supply.get_current()\n",
    "print('iin: {}'.format(iin))\n",
    "pin = vin*iin\n",
    "tests[25].setMeasurement(100*vout*iout/pin)\n",
    "print(tests[24].report())\n",
    "print(tests[25].report())\n",
    "print(tests[28].report())   \n",
    "print(tests[27].report())\n",
    "print(tests[31].report())\n",
    "print(tests[32].report())\n"
   ]
  },
  {
   "cell_type": "code",
   "execution_count": null,
   "metadata": {},
   "outputs": [],
   "source": [
    "#hv_supply.set_output('OFF')\n",
    "lv_supply.set_output('OFF')\n",
    "hv_supply.set_output('OFF')\n",
    "load1_on(daq)\n",
    "load2_on(daq)\n",
    "discharge_caps(2, quantities['HVCAP'], quantities['BuckCurrent'], daq)"
   ]
  },
  {
   "cell_type": "code",
   "execution_count": null,
   "metadata": {},
   "outputs": [],
   "source": [
    "results = pd.DataFrame(data=[test.toSeries() for test in tests])\n",
    "time_stamp = datetime.now().strftime('%Y-%m-%d_%H_%M')\n",
    "filename = 'SerNum{}_Results{}.csv'.format(SerialNumber, time_stamp)\n",
    "full_path = os.path.join(os.path.expanduser('~'), 'Desktop', 'PWR_Automated_Test', filename)\n",
    "results.to_csv(path_or_buf=full_path)"
   ]
  },
  {
   "cell_type": "code",
   "execution_count": null,
   "metadata": {},
   "outputs": [],
   "source": []
  }
 ],
 "metadata": {
  "kernelspec": {
   "display_name": "Python 3",
   "language": "python",
   "name": "python3"
  },
  "language_info": {
   "codemirror_mode": {
    "name": "ipython",
    "version": 3
   },
   "file_extension": ".py",
   "mimetype": "text/x-python",
   "name": "python",
   "nbconvert_exporter": "python",
   "pygments_lexer": "ipython3",
   "version": "3.6.3"
  }
 },
 "nbformat": 4,
 "nbformat_minor": 2
}
