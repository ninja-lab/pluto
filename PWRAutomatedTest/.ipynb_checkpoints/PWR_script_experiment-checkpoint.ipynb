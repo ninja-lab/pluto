{
 "cells": [
  {
   "cell_type": "code",
   "execution_count": 1,
   "metadata": {},
   "outputs": [],
   "source": [
    "from IPython.core.interactiveshell import InteractiveShell\n",
    "InteractiveShell.ast_node_interactivity = \"all\"\n",
    "import pandas as pd\n",
    "import numpy as np\n"
   ]
  },
  {
   "cell_type": "code",
   "execution_count": null,
   "metadata": {
    "scrolled": true
   },
   "outputs": [],
   "source": [
    "test_df = pd.read_excel('C:\\\\Users\\\\Erik\\\\git\\\\pluto\\\\PWR_Board_TestReportTemplate.xlsx', 'Report')\n",
    "\n",
    "\n",
    "quantity_df= pd.read_excel('C:\\\\Users\\\\Erik\\\\git\\\\pluto\\\\PWR_Board_TestReportTemplate.xlsx', 'Quantities')\n"
   ]
  },
  {
   "cell_type": "code",
   "execution_count": 2,
   "metadata": {},
   "outputs": [
    {
     "data": {
      "text/html": [
       "<div>\n",
       "<style scoped>\n",
       "    .dataframe tbody tr th:only-of-type {\n",
       "        vertical-align: middle;\n",
       "    }\n",
       "\n",
       "    .dataframe tbody tr th {\n",
       "        vertical-align: top;\n",
       "    }\n",
       "\n",
       "    .dataframe thead th {\n",
       "        text-align: right;\n",
       "    }\n",
       "</style>\n",
       "<table border=\"1\" class=\"dataframe\">\n",
       "  <thead>\n",
       "    <tr style=\"text-align: right;\">\n",
       "      <th></th>\n",
       "      <th>A</th>\n",
       "      <th>B</th>\n",
       "      <th>C</th>\n",
       "      <th>D</th>\n",
       "    </tr>\n",
       "  </thead>\n",
       "  <tbody>\n",
       "    <tr>\n",
       "      <th>0</th>\n",
       "      <td>A0</td>\n",
       "      <td>B0</td>\n",
       "      <td>C0</td>\n",
       "      <td>D0</td>\n",
       "    </tr>\n",
       "    <tr>\n",
       "      <th>1</th>\n",
       "      <td>A1</td>\n",
       "      <td>B1</td>\n",
       "      <td>C1</td>\n",
       "      <td>D1</td>\n",
       "    </tr>\n",
       "    <tr>\n",
       "      <th>2</th>\n",
       "      <td>A2</td>\n",
       "      <td>B2</td>\n",
       "      <td>C2</td>\n",
       "      <td>D2</td>\n",
       "    </tr>\n",
       "    <tr>\n",
       "      <th>3</th>\n",
       "      <td>A3</td>\n",
       "      <td>B3</td>\n",
       "      <td>C3</td>\n",
       "      <td>D3</td>\n",
       "    </tr>\n",
       "  </tbody>\n",
       "</table>\n",
       "</div>"
      ],
      "text/plain": [
       "    A   B   C   D\n",
       "0  A0  B0  C0  D0\n",
       "1  A1  B1  C1  D1\n",
       "2  A2  B2  C2  D2\n",
       "3  A3  B3  C3  D3"
      ]
     },
     "execution_count": 2,
     "metadata": {},
     "output_type": "execute_result"
    },
    {
     "data": {
      "text/plain": [
       "'\\n\\n'"
      ]
     },
     "execution_count": 2,
     "metadata": {},
     "output_type": "execute_result"
    }
   ],
   "source": [
    "df1 = pd.DataFrame({'A': ['A0', 'A1', 'A2', 'A3'],\n",
    "                    'B': ['B0', 'B1', 'B2', 'B3'],\n",
    "                    'C': ['C0', 'C1', 'C2', 'C3'],\n",
    "                    'D': ['D0', 'D1', 'D2', 'D3']},\n",
    "                   index=[0, 1, 2, 3])\n",
    "df1\n",
    "'''\n",
    "\n",
    "'''"
   ]
  },
  {
   "cell_type": "code",
   "execution_count": 3,
   "metadata": {},
   "outputs": [
    {
     "name": "stdout",
     "output_type": "stream",
     "text": [
      "<class 'pandas.core.series.Series'>\n",
      "A    A0\n",
      "B    B0\n",
      "C    C0\n",
      "D    D0\n",
      "Name: 0, dtype: object\n",
      "<class 'pandas.core.series.Series'>\n",
      "A    A1\n",
      "B    B1\n",
      "C    C1\n",
      "D    D1\n",
      "Name: 1, dtype: object\n",
      "<class 'pandas.core.series.Series'>\n",
      "A    A2\n",
      "B    B2\n",
      "C    C2\n",
      "D    D2\n",
      "Name: 2, dtype: object\n",
      "<class 'pandas.core.series.Series'>\n",
      "A    A3\n",
      "B    B3\n",
      "C    C3\n",
      "D    D3\n",
      "Name: 3, dtype: object\n"
     ]
    }
   ],
   "source": [
    "for row in df1.iterrows():\n",
    "    print(type(row[1]))\n",
    "    print(row[1])"
   ]
  },
  {
   "cell_type": "code",
   "execution_count": null,
   "metadata": {},
   "outputs": [],
   "source": [
    "#column_names = df1.columns.tolist()\n",
    "for row in df1.iterrows():\n",
    "    #this next part in constructor of each test class object\n",
    "    ser = row[1] #(index, Series) comes from iterrows()\n",
    "    column_names = ser.index.tolist()\n",
    "    my_dict = {}\n",
    "    for column_name in column_names:\n",
    "        my_dict[column_name] = ser[column_name]\n",
    "    print(my_dict) #each test classs object has a dictionary\n",
    "    "
   ]
  },
  {
   "cell_type": "code",
   "execution_count": null,
   "metadata": {},
   "outputs": [],
   "source": [
    "params = df1.columns.tolist()\n",
    "params"
   ]
  },
  {
   "cell_type": "code",
   "execution_count": 4,
   "metadata": {},
   "outputs": [],
   "source": [
    "a = {'A': 'A0', 'B': 'B0', 'C': 'C0', 'D': 'D0'}\n",
    "b = {'A': 'A1', 'B': 'B1', 'C': 'C1', 'D': 'D1'}\n",
    "c = {'A': 'A2', 'B': 'B2', 'C': 'C2', 'D': 'D2'}\n",
    "d = {'A': 'A3', 'B': 'B3', 'C': 'C3', 'D': 'D3'}\n",
    "    "
   ]
  },
  {
   "cell_type": "code",
   "execution_count": null,
   "metadata": {},
   "outputs": [],
   "source": [
    "seasons = ['Spring', 'Summer', 'Fall', 'Winter']\n",
    "list(enumerate(seasons))\n",
    "enum = enumerate(seasons)\n"
   ]
  },
  {
   "cell_type": "code",
   "execution_count": 5,
   "metadata": {},
   "outputs": [
    {
     "data": {
      "text/html": [
       "<div>\n",
       "<style scoped>\n",
       "    .dataframe tbody tr th:only-of-type {\n",
       "        vertical-align: middle;\n",
       "    }\n",
       "\n",
       "    .dataframe tbody tr th {\n",
       "        vertical-align: top;\n",
       "    }\n",
       "\n",
       "    .dataframe thead th {\n",
       "        text-align: right;\n",
       "    }\n",
       "</style>\n",
       "<table border=\"1\" class=\"dataframe\">\n",
       "  <thead>\n",
       "    <tr style=\"text-align: right;\">\n",
       "      <th></th>\n",
       "      <th>A</th>\n",
       "      <th>B</th>\n",
       "      <th>C</th>\n",
       "      <th>D</th>\n",
       "      <th>TestName</th>\n",
       "    </tr>\n",
       "  </thead>\n",
       "  <tbody>\n",
       "    <tr>\n",
       "      <th>0</th>\n",
       "      <td>A0</td>\n",
       "      <td>B0</td>\n",
       "      <td>C0</td>\n",
       "      <td>D0</td>\n",
       "      <td>test1</td>\n",
       "    </tr>\n",
       "    <tr>\n",
       "      <th>1</th>\n",
       "      <td>A1</td>\n",
       "      <td>B1</td>\n",
       "      <td>C1</td>\n",
       "      <td>D1</td>\n",
       "      <td>test2</td>\n",
       "    </tr>\n",
       "    <tr>\n",
       "      <th>2</th>\n",
       "      <td>A2</td>\n",
       "      <td>B2</td>\n",
       "      <td>C2</td>\n",
       "      <td>D2</td>\n",
       "      <td>test3</td>\n",
       "    </tr>\n",
       "    <tr>\n",
       "      <th>3</th>\n",
       "      <td>A3</td>\n",
       "      <td>B3</td>\n",
       "      <td>C3</td>\n",
       "      <td>D3</td>\n",
       "      <td>test4</td>\n",
       "    </tr>\n",
       "  </tbody>\n",
       "</table>\n",
       "</div>"
      ],
      "text/plain": [
       "    A   B   C   D TestName\n",
       "0  A0  B0  C0  D0    test1\n",
       "1  A1  B1  C1  D1    test2\n",
       "2  A2  B2  C2  D2    test3\n",
       "3  A3  B3  C3  D3    test4"
      ]
     },
     "execution_count": 5,
     "metadata": {},
     "output_type": "execute_result"
    },
    {
     "data": {
      "text/plain": [
       "<enumerate at 0xb08aee0>"
      ]
     },
     "execution_count": 5,
     "metadata": {},
     "output_type": "execute_result"
    }
   ],
   "source": [
    "df = pd.DataFrame(data=[a,b,c,d])\n",
    "\n",
    "\n",
    "time_stamp = datetime.now().strftime('%Y-%m-%d_%H_%M')\n",
    "filename = 'SerNum{}_Results{}'.format(SerialNumber, time_stamp)\n",
    "os.path.join(os.path.expanduser('~'), 'Desktop', 'PWRAutomatedTest', ')\n",
    "df.to_csv()"
   ]
  },
  {
   "cell_type": "code",
   "execution_count": null,
   "metadata": {},
   "outputs": [],
   "source": [
    "#column_names = df1.columns.tolist()\n",
    "tests = []\n",
    "for row in test_df.iterrows():\n",
    "    #this next part in constructor of each test class object\n",
    "    ser = row[1] #(index, Series) comes from iterrows()\n",
    "    column_names = ser.index.tolist()\n",
    "    my_dict = {}\n",
    "    for column_name in column_names:\n",
    "        my_dict[column_name] = ser[column_name]\n",
    "    tests.append(pwr_board_test_class(my_dict))\n",
    "quantities = []\n",
    "for row in quantity_df.iterrows():\n",
    "    #this next part in constructor of each test class object\n",
    "    ser = row[1] #(index, Series) comes from iterrows()\n",
    "    column_names = ser.index.tolist()\n",
    "    my_dict = {}\n",
    "    for column_name in column_names:\n",
    "        my_dict[column_name] = ser[column_name]\n",
    "    quantities.append(quantity(my_dict))"
   ]
  },
  {
   "cell_type": "markdown",
   "metadata": {},
   "source": [
    "There are tests, which have margins, pass/fail status, timestamp, units. \n",
    "There are quantities, which are used to evaluate tests, and they have channel assignments.  \n",
    "A quantity can know for what test numbers what the valid margins are, answersing queries such\n",
    "as .valid() or .invalid()\n",
    "Tests can use 0 or more quantities, to evaluate pass/fail status. \n",
    "\n",
    "\n",
    "Tests are ordered and numbered sequentially, so one can access them from a list of objects.\n",
    "\n",
    "Tests also use stimuli, such as input voltages. \n",
    "Test jig actions, such as relay configuration, may be encapsulated by a class also. \n",
    "\n"
   ]
  },
  {
   "cell_type": "code",
   "execution_count": null,
   "metadata": {},
   "outputs": [],
   "source": [
    "#from pwr_board_test_class import pwr_board_test_class, quantity"
   ]
  },
  {
   "cell_type": "code",
   "execution_count": null,
   "metadata": {},
   "outputs": [],
   "source": [
    "\n",
    "    "
   ]
  },
  {
   "cell_type": "code",
   "execution_count": null,
   "metadata": {},
   "outputs": [],
   "source": []
  }
 ],
 "metadata": {
  "kernelspec": {
   "display_name": "Python 3",
   "language": "python",
   "name": "python3"
  },
  "language_info": {
   "codemirror_mode": {
    "name": "ipython",
    "version": 3
   },
   "file_extension": ".py",
   "mimetype": "text/x-python",
   "name": "python",
   "nbconvert_exporter": "python",
   "pygments_lexer": "ipython3",
   "version": "3.6.3"
  }
 },
 "nbformat": 4,
 "nbformat_minor": 2
}
