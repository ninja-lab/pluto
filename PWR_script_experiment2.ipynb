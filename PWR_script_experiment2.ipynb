{
 "cells": [
  {
   "cell_type": "code",
   "execution_count": null,
   "metadata": {},
   "outputs": [],
   "source": [
    "from IPython.core.interactiveshell import InteractiveShell\n",
    "InteractiveShell.ast_node_interactivity = \"all\"\n",
    "import pandas as pd\n",
    "import numpy as np\n",
    "from PWRTestIO import *\n",
    "import Keysight34972A\n",
    "import InstekPSW\n",
    "import pyvisa\n",
    "import instrument_strings\n",
    "import random\n",
    "import time\n",
    "import matplotlib.pyplot as plt"
   ]
  },
  {
   "cell_type": "code",
   "execution_count": null,
   "metadata": {},
   "outputs": [],
   "source": [
    "rm = pyvisa.ResourceManager()\n",
    "rm.list_resources()"
   ]
  },
  {
   "cell_type": "code",
   "execution_count": null,
   "metadata": {},
   "outputs": [],
   "source": [
    "#rm = pyvisa.ResourceManager()\n",
    "for resource_id in rm.list_resources():\n",
    "    try:\n",
    "        inst = rm.open_resource(resource_id, send_end=True) #the VISA resource\n",
    "        name_str = inst.query('*IDN?').strip()\n",
    "        if name_str == instrument_strings.Keysight34972A:\n",
    "            daq = Keysight34972A.Keysight34972A(inst)\n",
    "            print(\"Connected to: \" + daq.name.rstrip('\\n'))\n",
    "        if name_str == instrument_strings.PSW800:\n",
    "            hv_supply = InstekPSW.InstekPSW(inst)\n",
    "            print(\"Connected to: \" + hv_supply.name.rstrip('\\n'))\n",
    "        if name_str == instrument_strings.PSW80V:\n",
    "            lv_supply = InstekPSW.InstekPSW(inst)\n",
    "            print(\"Connected to: \" + lv_supply.name.rstrip('\\n'))\n",
    "            \n",
    "    except pyvisa.errors.VisaIOError:\n",
    "        print(resource_id + \" is not what we're looking for, continuing...\\n\")\n"
   ]
  },
  {
   "cell_type": "code",
   "execution_count": null,
   "metadata": {},
   "outputs": [],
   "source": [
    "lv_supply.set_output(0)\n",
    "load1_off(daq)\n",
    "load2_off(daq)\n",
    "\n",
    "close_rl5(daq) #power PSUa, \n",
    "\n",
    "\n",
    "lv_supply.apply(24,2)\n",
    "lv_supply.set_output(1)\n"
   ]
  },
  {
   "cell_type": "code",
   "execution_count": null,
   "metadata": {},
   "outputs": [],
   "source": [
    "for i in range(10):\n",
    "    buck_on(daq)\n",
    "    flyback_on(daq)\n",
    "    #open_rl5(daq)\n",
    "    time.sleep(1)\n",
    "    buck_off(daq)\n",
    "    flyback_off(daq)\n",
    "    #close_rl5(daq)\n",
    "    time.sleep(1)\n",
    "#lv_supply.set_output(0)\n",
    "print('done')"
   ]
  },
  {
   "cell_type": "code",
   "execution_count": null,
   "metadata": {},
   "outputs": [],
   "source": [
    "lv_supply.set_output(0)"
   ]
  },
  {
   "cell_type": "code",
   "execution_count": null,
   "metadata": {},
   "outputs": [],
   "source": [
    "set_discharge_Vgs(daq, 0)\n",
    "def measure_HVCap(daq):\n",
    "    return daq.measure_DCV(210)*4\n",
    "def measure_buckCurrent(daq):\n",
    "    v_rsns = daq.measure_DCV(215)\n",
    "    return v_rsns/.28\n"
   ]
  },
  {
   "cell_type": "code",
   "execution_count": null,
   "metadata": {},
   "outputs": [],
   "source": [
    "\n",
    "flyback_off(daq)"
   ]
  },
  {
   "cell_type": "code",
   "execution_count": null,
   "metadata": {},
   "outputs": [],
   "source": [
    "\n",
    "set_discharge_Vgs(daq, 0)\n",
    "time.sleep(1)\n",
    "print(daq.measure_Resistance(210))"
   ]
  },
  {
   "cell_type": "code",
   "execution_count": null,
   "metadata": {},
   "outputs": [],
   "source": [
    "set_discharge_Vgs(daq, 10)\n",
    "time.sleep(1)\n",
    "print(daq.measure_Resistance(210))"
   ]
  },
  {
   "cell_type": "code",
   "execution_count": null,
   "metadata": {},
   "outputs": [],
   "source": [
    "for i in range(4):\n",
    "    voltage = measure_HVCap(daq)\n",
    "    current = measure_buckCurrent(daq)\n",
    "    print('voltage: {}'.format(voltage))\n",
    "    print('current: {}'.format(current))\n",
    "    print('power: {}'.format(voltage*current))\n",
    "    time.sleep(.5)"
   ]
  },
  {
   "cell_type": "code",
   "execution_count": null,
   "metadata": {},
   "outputs": [],
   "source": [
    "def set_discharge_Vgs(daq, voltage):\n",
    "    daq.analog_source(104, voltage)\n",
    "voltages = []\n",
    "currents = []\n",
    "powers = []\n",
    "def discharge_caps(vgs, voltage, current, daq):\n",
    "    set_discharge_Vgs(daq, vgs)\n",
    "    voltages.append(voltage)\n",
    "    currents.append(currents)\n",
    "    powers.append(voltage*current)\n",
    "    if voltage < 1 and current < .1:\n",
    "        set_discharge_Vgs(daq, 10)\n",
    "        time.sleep(5)\n",
    "        print('caps should be discharged')\n",
    "        set_discharge_Vgs(daq, 0)\n",
    "        return \n",
    "    else:\n",
    "        power = voltage*current\n",
    "        if power > 100:\n",
    "            discharge_caps(max(0,vgs-.1),measure_HVCap(daq),measure_buckCurrent(daq),daq )\n",
    "        elif power < 60:\n",
    "            discharge_caps(min(vgs+.1,10),measure_HVCap(daq),measure_buckCurrent(daq),daq )\n",
    "        else:\n",
    "            discharge_caps(vgs, measure_HVCap(daq),measure_buckCurrent(daq),daq )"
   ]
  },
  {
   "cell_type": "code",
   "execution_count": null,
   "metadata": {},
   "outputs": [],
   "source": [
    "discharge_caps(1, 4, 1,daq)"
   ]
  },
  {
   "cell_type": "code",
   "execution_count": null,
   "metadata": {},
   "outputs": [],
   "source": [
    "df = pd.DataFrame({'voltages':[1,2,4],'currents':[3,4,1],'powers':[7,8,9]})\n",
    "plt.figure()\n",
    "df.plot()"
   ]
  },
  {
   "cell_type": "code",
   "execution_count": null,
   "metadata": {},
   "outputs": [],
   "source": []
  }
 ],
 "metadata": {
  "kernelspec": {
   "display_name": "Python 3",
   "language": "python",
   "name": "python3"
  },
  "language_info": {
   "codemirror_mode": {
    "name": "ipython",
    "version": 3
   },
   "file_extension": ".py",
   "mimetype": "text/x-python",
   "name": "python",
   "nbconvert_exporter": "python",
   "pygments_lexer": "ipython3",
   "version": "3.6.3"
  }
 },
 "nbformat": 4,
 "nbformat_minor": 2
}
