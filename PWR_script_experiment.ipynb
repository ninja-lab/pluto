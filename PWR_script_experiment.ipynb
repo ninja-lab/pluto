{
 "cells": [
  {
   "cell_type": "code",
   "execution_count": null,
   "metadata": {},
   "outputs": [],
   "source": [
    "from IPython.core.interactiveshell import InteractiveShell\n",
    "InteractiveShell.ast_node_interactivity = \"all\"\n",
    "import pandas as pd\n",
    "import numpy as np\n"
   ]
  },
  {
   "cell_type": "code",
   "execution_count": null,
   "metadata": {
    "scrolled": true
   },
   "outputs": [],
   "source": [
    "test_df = pd.read_excel('C:\\\\Users\\\\Erik\\\\git\\\\pluto\\\\PWR_Board_TestReportTemplate.xlsx', 'Report')\n",
    "\n",
    "\n",
    "quantity_df= pd.read_excel('C:\\\\Users\\\\Erik\\\\git\\\\pluto\\\\PWR_Board_TestReportTemplate.xlsx', 'Quantities')\n"
   ]
  },
  {
   "cell_type": "code",
   "execution_count": null,
   "metadata": {},
   "outputs": [],
   "source": [
    "df1 = pd.DataFrame({'A': ['A0', 'A1', 'A2', 'A3'],\n",
    "                    'B': ['B0', 'B1', 'B2', 'B3'],\n",
    "                    'C': ['C0', 'C1', 'C2', 'C3'],\n",
    "                    'D': ['D0', 'D1', 'D2', 'D3']},\n",
    "                   index=[0, 1, 2, 3])\n",
    "df1\n",
    "'''\n",
    "\n",
    "'''"
   ]
  },
  {
   "cell_type": "code",
   "execution_count": null,
   "metadata": {},
   "outputs": [],
   "source": [
    "for row in df1.iterrows():\n",
    "    print(type(row[1]))\n",
    "    print(row[1])"
   ]
  },
  {
   "cell_type": "code",
   "execution_count": null,
   "metadata": {},
   "outputs": [],
   "source": [
    "#column_names = df1.columns.tolist()\n",
    "for row in df1.iterrows():\n",
    "    #this next part in constructor of each test class object\n",
    "    ser = row[1] #(index, Series) comes from iterrows()\n",
    "    column_names = ser.index.tolist()\n",
    "    my_dict = {}\n",
    "    for column_name in column_names:\n",
    "        my_dict[column_name] = ser[column_name]\n",
    "    print(my_dict) #each test classs object has a dictionary\n",
    "    "
   ]
  },
  {
   "cell_type": "code",
   "execution_count": null,
   "metadata": {},
   "outputs": [],
   "source": [
    "params = df1.columns.tolist()\n",
    "params"
   ]
  },
  {
   "cell_type": "code",
   "execution_count": null,
   "metadata": {},
   "outputs": [],
   "source": [
    "a = {'A': 'A0', 'B': 'B0', 'C': 'C0', 'D': 'D0'}\n",
    "b = {'A': 'A1', 'B': 'B1', 'C': 'C1', 'D': 'D1'}\n",
    "c = {'A': 'A2', 'B': 'B2', 'C': 'C2', 'D': 'D2'}\n",
    "d = {'A': 'A3', 'B': 'B3', 'C': 'C3', 'D': 'D3'}\n",
    "    "
   ]
  },
  {
   "cell_type": "code",
   "execution_count": null,
   "metadata": {},
   "outputs": [],
   "source": [
    "seasons = ['Spring', 'Summer', 'Fall', 'Winter']\n",
    "list(enumerate(seasons))\n",
    "enum = enumerate(seasons)\n"
   ]
  },
  {
   "cell_type": "code",
   "execution_count": null,
   "metadata": {},
   "outputs": [],
   "source": [
    "df = pd.DataFrame(data=[a,b,c,d])\n",
    "df['TestName'] = ['test1', 'test2','test3','test4']\n",
    "df\n",
    "enumerate(df['TestName'])"
   ]
  },
  {
   "cell_type": "code",
   "execution_count": null,
   "metadata": {},
   "outputs": [],
   "source": [
    "class pwr_board_test_class():\n",
    "\n",
    "    def __init__(self, adict):\n",
    "        '''\n",
    "        Use the excel test report template as the source\n",
    "        of all the attributes a test object needs to have.\n",
    "        \n",
    "        '''\n",
    "    \n",
    "        self.mydict=adict\n",
    "   \n",
    "      \n",
    "    def setMeasurement(self, value):\n",
    "        self.mydict['MEASURED'] = value\n",
    "    \n",
    "    def getMeasurement(self):\n",
    "        return self.mydict['MEASURED']\n",
    "    \n",
    "    def isValid(self):\n",
    "        if self.getMeasurement is np.NaN:\n",
    "            return false\n",
    "        else:\n",
    "            return self.mydict['MIN'] <= self.getMeasurement() <= self.mydict['MAX']\n",
    "        \n",
    "class quantity():\n",
    "    def __init__(self, adict):\n",
    "        self.mydict=adict\n",
    "  \n",
    "    def measure(self, daq):\n",
    "        val = (daq.measure_DCV(self.mydict['CHANNEL']) - \\\n",
    "               self.mydict['OFFSET']) * \\\n",
    "               self.mydict['SCALE']\n",
    "        self.mydict['MEASURED'] = val\n",
    "        \n",
    "    def isValid(self, correct_value):\n",
    "        if self.getMeasurement is np.NaN:\n",
    "            return false\n",
    "        else:\n",
    "            return self.mydict['MIN'] <= self.getMeasurement() <= self.mydict['MAX']    \n",
    "    "
   ]
  },
  {
   "cell_type": "code",
   "execution_count": null,
   "metadata": {},
   "outputs": [],
   "source": [
    "#column_names = df1.columns.tolist()\n",
    "tests = []\n",
    "for row in test_df.iterrows():\n",
    "    #this next part in constructor of each test class object\n",
    "    ser = row[1] #(index, Series) comes from iterrows()\n",
    "    column_names = ser.index.tolist()\n",
    "    my_dict = {}\n",
    "    for column_name in column_names:\n",
    "        my_dict[column_name] = ser[column_name]\n",
    "    tests.append(pwr_board_test_class(my_dict))\n",
    "quantities = []\n",
    "for row in quantity_df.iterrows():\n",
    "    #this next part in constructor of each test class object\n",
    "    ser = row[1] #(index, Series) comes from iterrows()\n",
    "    column_names = ser.index.tolist()\n",
    "    my_dict = {}\n",
    "    for column_name in column_names:\n",
    "        my_dict[column_name] = ser[column_name]\n",
    "    quantities.append(quantity(my_dict))"
   ]
  },
  {
   "cell_type": "markdown",
   "metadata": {},
   "source": [
    "There are tests, which have margins, pass/fail status, timestamp, units. \n",
    "There are quantities, which are used to evaluate tests, and they have channel assignments.  \n",
    "A quantity can know for what test numbers what the valid margins are, answersing queries such\n",
    "as .valid() or .invalid()\n",
    "Tests can use 0 or more quantities, to evaluate pass/fail status. \n",
    "\n",
    "\n",
    "Tests are ordered and numbered sequentially, so one can access them from a list of objects.\n",
    "\n",
    "Tests also use stimuli, such as input voltages. \n",
    "Test jig actions, such as relay configuration, may be encapsulated by a class also. \n",
    "\n"
   ]
  },
  {
   "cell_type": "code",
   "execution_count": null,
   "metadata": {},
   "outputs": [],
   "source": [
    "#from pwr_board_test_class import pwr_board_test_class, quantity"
   ]
  },
  {
   "cell_type": "code",
   "execution_count": null,
   "metadata": {},
   "outputs": [],
   "source": [
    "\n",
    "    "
   ]
  },
  {
   "cell_type": "code",
   "execution_count": null,
   "metadata": {},
   "outputs": [],
   "source": []
  }
 ],
 "metadata": {
  "kernelspec": {
   "display_name": "Python 3",
   "language": "python",
   "name": "python3"
  },
  "language_info": {
   "codemirror_mode": {
    "name": "ipython",
    "version": 3
   },
   "file_extension": ".py",
   "mimetype": "text/x-python",
   "name": "python",
   "nbconvert_exporter": "python",
   "pygments_lexer": "ipython3",
   "version": "3.6.3"
  }
 },
 "nbformat": 4,
 "nbformat_minor": 2
}
