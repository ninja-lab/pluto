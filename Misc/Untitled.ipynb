{
 "cells": [
  {
   "cell_type": "code",
   "execution_count": 1,
   "metadata": {},
   "outputs": [],
   "source": [
    "from IPython.core.interactiveshell import InteractiveShell\n",
    "InteractiveShell.ast_node_interactivity = \"all\""
   ]
  },
  {
   "cell_type": "code",
   "execution_count": 5,
   "metadata": {},
   "outputs": [],
   "source": [
    "import pandas as pd\n",
    "import numpy as np"
   ]
  },
  {
   "cell_type": "code",
   "execution_count": 6,
   "metadata": {},
   "outputs": [
    {
     "name": "stdout",
     "output_type": "stream",
     "text": [
      "    TEST #  MIN  MAX  MEASURED NAME  Check\n",
      "0      3.1    0    0       3.0    a   True\n",
      "1      3.2    1    1       9.0    b   True\n",
      "2      3.3    2    2       NaN    c   True\n",
      "3      4.1    3    3       7.0    a   True\n",
      "4      4.2    4    4       6.0    b   True\n",
      "5      4.3    5    5       7.0    c   True\n",
      "6      5.1    6    6       4.0    a   True\n",
      "7      5.2    7    7       1.0    b   True\n",
      "8      5.3    8    8       5.0    c   True\n",
      "9      6.1    9    9       1.0    a   True\n",
      "10     6.2   10   10       9.0    b   True\n",
      "11     6.3   11   11       5.0    c   True\n"
     ]
    }
   ],
   "source": [
    "data = pd.DataFrame(np.random.randint(1,10, size=(12,4)), columns=['TEST #','MIN', 'MAX','MEASURED'])\n",
    "data['MEASURED'][2] = np.nan\n",
    "data['NAME'] = ['a','b','c','a','b','c','a','b','c','a','b','c']\n",
    "data['TEST #'] = [3.1,3.2,3.3,4.1,4.2,4.3,5.1,5.2,5.3,6.1,6.2,6.3]   \n",
    "data['MIN'] = list(range(len(data['TEST #']))) #[1, 2, 3, 4, 5, 6, 7, 8, 9, 10, 11, 12]\n",
    "data['MAX'] = list(range(len(data['TEST #'])))#[5,4, 4, 9, 9, 9 ,17, 18, 19, 20, 21, 22]                \n",
    "#add the checkable column to the DataFrame\n",
    "data['Check'] = True\n",
    "\n",
    "print(data)"
   ]
  },
  {
   "cell_type": "code",
   "execution_count": 21,
   "metadata": {},
   "outputs": [],
   "source": [
    "    def getCoupledRows(row):\n",
    "\n",
    "        test_num = data.iloc[row]['TEST #'].astype(int)\n",
    "        \n",
    "        print('test_num: {}'.format(test_num))\n",
    "        mask = data['TEST #'].values.astype(int) == test_num\n",
    "        print('mask: ')\n",
    "        print(mask)\n",
    "        print(data['TEST #'][mask])\n",
    "        return data['TEST #'][mask].index\n",
    "    "
   ]
  },
  {
   "cell_type": "code",
   "execution_count": 24,
   "metadata": {},
   "outputs": [
    {
     "name": "stdout",
     "output_type": "stream",
     "text": [
      "test_num: 4\n",
      "mask: \n",
      "[False False False  True  True  True False False False False False False]\n",
      "3    4.1\n",
      "4    4.2\n",
      "5    4.3\n",
      "Name: TEST #, dtype: float64\n"
     ]
    },
    {
     "data": {
      "text/plain": [
       "Int64Index([3, 4, 5], dtype='int64')"
      ]
     },
     "execution_count": 24,
     "metadata": {},
     "output_type": "execute_result"
    }
   ],
   "source": [
    "row = 3\n",
    "getCoupledRows(row)"
   ]
  },
  {
   "cell_type": "code",
   "execution_count": 17,
   "metadata": {},
   "outputs": [
    {
     "data": {
      "text/html": [
       "<div>\n",
       "<style scoped>\n",
       "    .dataframe tbody tr th:only-of-type {\n",
       "        vertical-align: middle;\n",
       "    }\n",
       "\n",
       "    .dataframe tbody tr th {\n",
       "        vertical-align: top;\n",
       "    }\n",
       "\n",
       "    .dataframe thead th {\n",
       "        text-align: right;\n",
       "    }\n",
       "</style>\n",
       "<table border=\"1\" class=\"dataframe\">\n",
       "  <thead>\n",
       "    <tr style=\"text-align: right;\">\n",
       "      <th></th>\n",
       "      <th>TEST #</th>\n",
       "      <th>MIN</th>\n",
       "      <th>MAX</th>\n",
       "      <th>MEASURED</th>\n",
       "      <th>NAME</th>\n",
       "      <th>Check</th>\n",
       "    </tr>\n",
       "  </thead>\n",
       "  <tbody>\n",
       "    <tr>\n",
       "      <th>0</th>\n",
       "      <td>3.1</td>\n",
       "      <td>0</td>\n",
       "      <td>0</td>\n",
       "      <td>3.0</td>\n",
       "      <td>a</td>\n",
       "      <td>True</td>\n",
       "    </tr>\n",
       "    <tr>\n",
       "      <th>1</th>\n",
       "      <td>3.2</td>\n",
       "      <td>1</td>\n",
       "      <td>1</td>\n",
       "      <td>9.0</td>\n",
       "      <td>b</td>\n",
       "      <td>True</td>\n",
       "    </tr>\n",
       "    <tr>\n",
       "      <th>2</th>\n",
       "      <td>3.3</td>\n",
       "      <td>2</td>\n",
       "      <td>2</td>\n",
       "      <td>NaN</td>\n",
       "      <td>c</td>\n",
       "      <td>True</td>\n",
       "    </tr>\n",
       "    <tr>\n",
       "      <th>3</th>\n",
       "      <td>4.1</td>\n",
       "      <td>3</td>\n",
       "      <td>3</td>\n",
       "      <td>7.0</td>\n",
       "      <td>a</td>\n",
       "      <td>True</td>\n",
       "    </tr>\n",
       "    <tr>\n",
       "      <th>4</th>\n",
       "      <td>4.2</td>\n",
       "      <td>4</td>\n",
       "      <td>4</td>\n",
       "      <td>6.0</td>\n",
       "      <td>b</td>\n",
       "      <td>True</td>\n",
       "    </tr>\n",
       "    <tr>\n",
       "      <th>5</th>\n",
       "      <td>4.3</td>\n",
       "      <td>5</td>\n",
       "      <td>5</td>\n",
       "      <td>7.0</td>\n",
       "      <td>c</td>\n",
       "      <td>True</td>\n",
       "    </tr>\n",
       "    <tr>\n",
       "      <th>6</th>\n",
       "      <td>5.1</td>\n",
       "      <td>6</td>\n",
       "      <td>6</td>\n",
       "      <td>4.0</td>\n",
       "      <td>a</td>\n",
       "      <td>True</td>\n",
       "    </tr>\n",
       "    <tr>\n",
       "      <th>7</th>\n",
       "      <td>5.2</td>\n",
       "      <td>7</td>\n",
       "      <td>7</td>\n",
       "      <td>1.0</td>\n",
       "      <td>b</td>\n",
       "      <td>True</td>\n",
       "    </tr>\n",
       "    <tr>\n",
       "      <th>8</th>\n",
       "      <td>5.3</td>\n",
       "      <td>8</td>\n",
       "      <td>8</td>\n",
       "      <td>5.0</td>\n",
       "      <td>c</td>\n",
       "      <td>True</td>\n",
       "    </tr>\n",
       "    <tr>\n",
       "      <th>9</th>\n",
       "      <td>6.1</td>\n",
       "      <td>9</td>\n",
       "      <td>9</td>\n",
       "      <td>1.0</td>\n",
       "      <td>a</td>\n",
       "      <td>True</td>\n",
       "    </tr>\n",
       "    <tr>\n",
       "      <th>10</th>\n",
       "      <td>6.2</td>\n",
       "      <td>10</td>\n",
       "      <td>10</td>\n",
       "      <td>9.0</td>\n",
       "      <td>b</td>\n",
       "      <td>True</td>\n",
       "    </tr>\n",
       "    <tr>\n",
       "      <th>11</th>\n",
       "      <td>6.3</td>\n",
       "      <td>11</td>\n",
       "      <td>11</td>\n",
       "      <td>5.0</td>\n",
       "      <td>c</td>\n",
       "      <td>True</td>\n",
       "    </tr>\n",
       "  </tbody>\n",
       "</table>\n",
       "</div>"
      ],
      "text/plain": [
       "    TEST #  MIN  MAX  MEASURED NAME  Check\n",
       "0      3.1    0    0       3.0    a   True\n",
       "1      3.2    1    1       9.0    b   True\n",
       "2      3.3    2    2       NaN    c   True\n",
       "3      4.1    3    3       7.0    a   True\n",
       "4      4.2    4    4       6.0    b   True\n",
       "5      4.3    5    5       7.0    c   True\n",
       "6      5.1    6    6       4.0    a   True\n",
       "7      5.2    7    7       1.0    b   True\n",
       "8      5.3    8    8       5.0    c   True\n",
       "9      6.1    9    9       1.0    a   True\n",
       "10     6.2   10   10       9.0    b   True\n",
       "11     6.3   11   11       5.0    c   True"
      ]
     },
     "execution_count": 17,
     "metadata": {},
     "output_type": "execute_result"
    }
   ],
   "source": [
    "data"
   ]
  },
  {
   "cell_type": "code",
   "execution_count": 20,
   "metadata": {},
   "outputs": [
    {
     "data": {
      "text/plain": [
       "3"
      ]
     },
     "execution_count": 20,
     "metadata": {},
     "output_type": "execute_result"
    }
   ],
   "source": [
    "row =2\n",
    "data.iloc[row]['TEST #'].astype(int)"
   ]
  }
 ],
 "metadata": {
  "kernelspec": {
   "display_name": "Python 3",
   "language": "python",
   "name": "python3"
  },
  "language_info": {
   "codemirror_mode": {
    "name": "ipython",
    "version": 3
   },
   "file_extension": ".py",
   "mimetype": "text/x-python",
   "name": "python",
   "nbconvert_exporter": "python",
   "pygments_lexer": "ipython3",
   "version": "3.7.1"
  }
 },
 "nbformat": 4,
 "nbformat_minor": 2
}
